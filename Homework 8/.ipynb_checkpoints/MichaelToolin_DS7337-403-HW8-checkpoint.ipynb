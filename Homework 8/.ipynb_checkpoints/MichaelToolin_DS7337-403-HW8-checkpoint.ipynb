{
 "cells": [
  {
   "cell_type": "markdown",
   "metadata": {},
   "source": [
    "Michael Toolin<br>\n",
    "Natural Language Processing<br>\n",
    "DS 7337-403 <br>\n",
    "Homework 8"
   ]
  },
  {
   "cell_type": "code",
   "execution_count": 2,
   "metadata": {},
   "outputs": [
    {
     "name": "stdout",
     "output_type": "stream",
     "text": [
      "Python 3.6.6 |Anaconda custom (64-bit)| (default, Jun 28 2018, 11:27:44) [MSC v.1900 64 bit (AMD64)]\n"
     ]
    },
    {
     "name": "stderr",
     "output_type": "stream",
     "text": [
      "[nltk_data] Downloading package punkt to\n",
      "[nltk_data]     C:\\Users\\mtool\\AppData\\Roaming\\nltk_data...\n",
      "[nltk_data]   Package punkt is already up-to-date!\n",
      "[nltk_data] Downloading package stopwords to\n",
      "[nltk_data]     C:\\Users\\mtool\\AppData\\Roaming\\nltk_data...\n",
      "[nltk_data]   Package stopwords is already up-to-date!\n",
      "[nltk_data] Downloading package wordnet to\n",
      "[nltk_data]     C:\\Users\\mtool\\AppData\\Roaming\\nltk_data...\n",
      "[nltk_data]   Package wordnet is already up-to-date!\n"
     ]
    },
    {
     "data": {
      "text/plain": [
       "True"
      ]
     },
     "execution_count": 2,
     "metadata": {},
     "output_type": "execute_result"
    }
   ],
   "source": [
    "\n",
    "\"\"\"\"\n",
    "Created on Thu Apr3 19:06:23 2019\n",
    "\n",
    "@author: mtool\n",
    "\"\"\"\n",
    "import sys; print (\"Python\", sys.version)\n",
    "import nltk\n",
    "#from nltk.corpus import stopwords\n",
    "from nltk.sentiment.vader import SentimentIntensityAnalyzer\n",
    "\n",
    "from nltk import Tree\n",
    "from pattern.en import parsetree, Chunk\n",
    "import string\n",
    "from collections import Counter\n",
    "import matplotlib.pyplot as plt\n",
    "import pandas as pd\n",
    "from bs4 import BeautifulSoup \n",
    "from statistics import mean, median\n",
    "\n",
    "import matplotlib.cm as cm\n",
    "\n",
    "from sklearn.decomposition import PCA\n",
    "from sklearn.cluster import KMeans, AgglomerativeClustering\n",
    "from sklearn import metrics\n",
    "from sklearn.feature_extraction.text import TfidfVectorizer\n",
    "import requests\n",
    "import re\n",
    "import numpy as np\n",
    "\n",
    "from scipy.cluster.hierarchy import dendrogram, linkage\n",
    "\n",
    "nltk.download('punkt')\n",
    "nltk.download('stopwords')\n",
    "nltk.download('wordnet')"
   ]
  },
  {
   "cell_type": "code",
   "execution_count": 3,
   "metadata": {},
   "outputs": [],
   "source": [
    "#\n",
    "# Define functions used later\n",
    "#\n",
    "lemmer = nltk.stem.WordNetLemmatizer()\n",
    "def LemTokens(tokens):\n",
    "     return [lemmer.lemmatize(token) for token in tokens]\n",
    " \n",
    "remove_punct_dict = dict((ord(punct), None) for punct in string.punctuation)\n",
    "def LemNormalize(text):\n",
    "     return LemTokens(nltk.word_tokenize(text.lower().translate(remove_punct_dict)))\n",
    "#\n",
    "# K-means function so we can iterate over number of clusters\n",
    "#\n",
    "def k_means(feature_matrix, num_clusters=5):\n",
    "    km = KMeans(n_clusters=num_clusters,\n",
    "                max_iter=10000)\n",
    "    km.fit(feature_matrix)\n",
    "    clusters = km.labels_\n",
    "    return km, clusters"
   ]
  },
  {
   "cell_type": "markdown",
   "metadata": {},
   "source": [
    "### Movie genre selection and high level algorithm approach\n",
    "I chose to examine reviews for the top 240 horror movies listed on the IMDB site. The following steps were used to scrape each page and find the permalink and eventually the review text for each movie. This algorithm needed to be changed from all the previous homeworks using this data. IMDb changed something on their webpages that broke my original algorithm.  I had to go back and re-write the webscraping algorithm that found the URLs for each movie.  Luckliy the other pages used did not change and th algorithm worked once I resolved this issue..<br>\n",
    " * I used the URL of this website to scrape the URL's for each individual movie.  These URLs are savedin a dictionary containing **{title:movieURL}**<br><br>\n",
    " * Within each movies page, I noticed the difference between the movies's main page and the user review page was the attribute on the end of the URL. All movie review pages had the same attribute. I created a new dictionary saving the user review URL **{title:reviewURL}**.<br><br>\n",
    " * Within each user review page a pattern was found identifying the permalink for each user review.<br> The review was downloaded and saved in it's own dictionary **{title:reviewText}**.<br><br>\n",
    " * Gather all the reviews and run the clustering algorithm on them. I run k-means clustering, checking to see what number of clusters from 2 to 10 give the best results.\n",
    " * Finally I reduce the dimenionality using PCA and plot the resulting clusters\n",
    " \n",
    " #### Get the URL for all 240 movies and save in dictionary titled reviewDict{}\n"
   ]
  },
  {
   "cell_type": "code",
   "execution_count": 4,
   "metadata": {},
   "outputs": [
    {
     "name": "stdout",
     "output_type": "stream",
     "text": [
      "Getting movie page URL's in page 1\n",
      "Getting movie page URL's in page 2\n",
      "Getting movie page URL's in page 3\n",
      "\n",
      "Total of URLs found =  241\n"
     ]
    }
   ],
   "source": [
    "#%%\n",
    "#\n",
    "# Top 240 horror movies @ https://www.imdb.com/list/ls059633855/\n",
    "#\n",
    "debug = False\n",
    "movieCode = set ([])\n",
    "pages = ['1','2','3']\n",
    "reviewAttrb = 'reviews?ref_=tt_ql_3'\n",
    "movieAttrb = '?ref_=ttls_li_tt'\n",
    "reviewDict = {}\n",
    "\n",
    "#\n",
    "# Get all URL's from page of 240 horror movies listing.\n",
    "# Each movie has multiple pages, but we want the one that has the\n",
    "# attribute ?ref_=ttls_li_tt.\n",
    "# NOTE!!! The above algorithm broke. We now are searching for href attribute\n",
    "# that conatin the text '/title/tt'. Each movie contains two of these, the\n",
    "# second href attribute contains the movie title. We keep only that one\n",
    "# \n",
    "# Once we find these, get the title of the\n",
    "# movie and then update the URL to point to the review page by replacing\n",
    "# the attribute with reviews?ref_=tt_ql_3\n",
    "# Create a dictionary of the movie titles and the URLs to user review pages\n",
    "# Note this URL points to the page with ALL the reviews for the movie\n",
    "#\n",
    "# I noticed the page with user reviews for each movie uses the same URL\n",
    "# but just passes a different attribute after the movie number. I don't have\n",
    "# to go to each movie page to find the review page, just subst the attribute\n",
    "# at the end to get to the user review pages\n",
    "#\n",
    "for pgNum in pages:\n",
    "    urlStr='https://www.imdb.com/list/ls059633855/?sort=list_order,asc&st_dt=&mode=detail&page='+pgNum\n",
    "    page = requests.get(urlStr)\n",
    "    soup = BeautifulSoup(page.text,'html.parser')\n",
    "    print(\"Getting movie page URL's in page {}\".format(pgNum))\n",
    "    for a in soup.find_all('a', href=re.compile('/title/tt')):\n",
    "        if a['href'] in set(movieCode):\n",
    "            if str(a.contents[0]) =='\\n': continue\n",
    "            if debug:\n",
    "                print (\"Found the URL:\", a['href'],'for the movie', a.contents[0])\n",
    "            revURL = a['href']+(reviewAttrb)\n",
    "            revURL = 'https://www.imdb.com'+ revURL\n",
    "            title = str(a.contents[0])\n",
    "            reviewDict [title] = revURL\n",
    "        else:\n",
    "            movieCode.add(a['href'])\n",
    "print('\\nTotal of URLs found = ', len(reviewDict.keys()))"
   ]
  },
  {
   "cell_type": "markdown",
   "metadata": {},
   "source": [
    "#### Find the PermaLink URL for the first review for each movie\n",
    "Store the PermaLink URL in the dictionary named permaDict{title:permaURL}"
   ]
  },
  {
   "cell_type": "code",
   "execution_count": 5,
   "metadata": {},
   "outputs": [
    {
     "name": "stdout",
     "output_type": "stream",
     "text": [
      "Getting PermaLinks...\n",
      "\n"
     ]
    }
   ],
   "source": [
    "#%%\n",
    "#\n",
    "# Find first permaLink and create a dictionary \n",
    "# {Movie title:permaLink} This page has movie rankings by user, etc...\n",
    "#\n",
    "permaDict ={}\n",
    "print (\"Getting PermaLinks...\\n\")\n",
    "for k in reviewDict:\n",
    "    reviewURL = reviewDict.get(k)\n",
    "    title = str(k)                             # Save title for key in new Dict\n",
    "    reviewPage = requests.get(reviewURL)\n",
    "    reviewSoup = BeautifulSoup(reviewPage.text, 'html.parser')\n",
    "    permaTag = reviewSoup.find('a', href=re.compile('/review/rw')) \n",
    "    if debug:\n",
    "        print('PermaLink review URL:', permaTag['href'],'for movie',k)  \n",
    "    permaURL = 'https://www.imdb.com'+ permaTag['href']\n",
    "    permaDict [title] = permaURL      "
   ]
  },
  {
   "cell_type": "markdown",
   "metadata": {},
   "source": [
    "#### Retrieve the body of each review and store in a dictionary textDict{title:reviewText}"
   ]
  },
  {
   "cell_type": "code",
   "execution_count": 6,
   "metadata": {},
   "outputs": [
    {
     "name": "stdout",
     "output_type": "stream",
     "text": [
      "Getting review text... \n",
      "\n"
     ]
    }
   ],
   "source": [
    "#%%\n",
    "#\n",
    "# Retrieve the body of each each review and store in a dictionary\n",
    "# {Title: Review Text}\n",
    "#\n",
    "textDict = {}\n",
    "print('Getting review text... \\n')\n",
    "for k1 in permaDict:\n",
    "    rawReviewText =''                           # Clear the buffer\n",
    "    permaURL = permaDict.get(k1)\n",
    "    title = str (k1)                            # Keep track of the movie title\n",
    "    permaPage = requests.get(permaURL)\n",
    "    permaSoup = BeautifulSoup(permaPage.text, 'html.parser')\n",
    "    permaTag = permaSoup.find('div', {'class':'text show-more__control'})\n",
    "    [p.replace_with(' ') for p in permaTag.findAll('br')]\n",
    "    if debug:\n",
    "        print(permaURL)\n",
    "        print('Movie',k1, 'has text',permaTag.contents[0])\n",
    "    for t in permaTag:\n",
    "        rawReviewText = rawReviewText+ str(t)\n",
    "    textDict[title] = rawReviewText"
   ]
  },
  {
   "cell_type": "markdown",
   "metadata": {},
   "source": [
    "#### Create Tfidf vectors and features\n",
    "Save the list of Movie titles in a list for easier access later. Since the IMDb website changes, the reviews that are being retrieved have changed also. I examined the key features being used for clustering and found the words *movie, movies, film, and films* were used to seperate the clusters.  These words are not providing any information so they have been added to the stop word list"
   ]
  },
  {
   "cell_type": "code",
   "execution_count": 7,
   "metadata": {},
   "outputs": [],
   "source": [
    "#\n",
    "# Create list of individual reviews\n",
    "# Then create tfidf vectors and get feature names\n",
    "#\n",
    "listOfMyStopwords = ['movie','film','films','movies']\n",
    "listOfReviews = []\n",
    "listOfMovies = []\n",
    "for k2 in textDict:\n",
    "    listOfReviews.append(textDict.get(k2))\n",
    "    listOfMovies.append(k2)\n",
    "stopwordList = nltk.corpus.stopwords.words('english')+listOfMyStopwords\n",
    "#tokenizer = RegexpTokenizer(r'\\w+')\n",
    "#TfidfVec = TfidfVectorizer(tokenizer=LemNormalize, stop_words=stopwordList)\n",
    "TfidfVec = TfidfVectorizer(stop_words=stopwordList)\n",
    "tfidfReviewMatrix = TfidfVec.fit_transform(listOfReviews)\n",
    "tfidfReviewFeatureNames = TfidfVec.get_feature_names()\n"
   ]
  },
  {
   "cell_type": "markdown",
   "metadata": {},
   "source": [
    "#### Run the K-means clustering algorithm on the list of reviews.\n",
    "I keep track of which number of clusters did the best job by checking the silhoutte score\n",
    "and keeping track of that model.\\n Looking at the silhoutte score reveals k = 3 clusters performed the best clustering on the data. However there was not any very good clustering of the reviews with any number of clusters with all silhoutte scores being below .005. The k=3 cluster barely performed better the k=2 or k=5. This may be due to the fact that each review is written by a different author so we are not finding alot commonality in the text.  What commonality we do find is most likely due to the all the reviews being written about the same genre of movies."
   ]
  },
  {
   "cell_type": "code",
   "execution_count": 8,
   "metadata": {},
   "outputs": [
    {
     "name": "stdout",
     "output_type": "stream",
     "text": [
      "For 2 clusters\n",
      "Counter({1: 234, 0: 7})\n",
      "Silhoutte score:0.004203\n",
      "\n",
      "For 3 clusters\n",
      "Counter({1: 151, 2: 86, 0: 4})\n",
      "Silhoutte score:0.001645\n",
      "\n",
      "For 4 clusters\n",
      "Counter({1: 126, 2: 72, 3: 39, 0: 4})\n",
      "Silhoutte score:0.001296\n",
      "\n",
      "For 5 clusters\n",
      "Counter({1: 114, 4: 66, 3: 27, 0: 19, 2: 15})\n",
      "Silhoutte score:0.001113\n",
      "\n",
      "For 6 clusters\n",
      "Counter({1: 72, 2: 64, 5: 45, 0: 29, 4: 26, 3: 5})\n",
      "Silhoutte score:0.000961\n",
      "\n",
      "For 7 clusters\n",
      "Counter({6: 125, 4: 65, 0: 16, 3: 15, 2: 8, 1: 7, 5: 5})\n",
      "Silhoutte score:0.001799\n",
      "\n",
      "For 8 clusters\n",
      "Counter({5: 56, 4: 45, 7: 45, 0: 30, 3: 29, 2: 16, 1: 13, 6: 7})\n",
      "Silhoutte score:0.001396\n",
      "\n",
      "For 9 clusters\n",
      "Counter({1: 72, 4: 41, 6: 28, 5: 25, 3: 24, 0: 22, 2: 14, 8: 10, 7: 5})\n",
      "Silhoutte score:0.001150\n",
      "\n",
      "For 10 clusters\n",
      "Counter({8: 68, 1: 64, 5: 30, 4: 18, 9: 14, 0: 13, 2: 12, 3: 11, 6: 6, 7: 5})\n",
      "Silhoutte score:0.002215\n",
      "\n",
      "--------------------\n",
      "The best clustering was seen with 2 clusters\n"
     ]
    }
   ],
   "source": [
    "numOfClustersToTest = [2, 3, 4, 5, 6, 7, 8, 9 ,10]\n",
    "bestCluster = 0                                 # Initalize this to zero\n",
    "bestSilhoutteScore = 0\n",
    "clusterListByMovie = []                                 # Use list of tuples to keep order\n",
    "#\n",
    "# Test which clustering size gives the densest clusters by checking \n",
    "# silhoutte scores\n",
    "# Save the best clustering to analyze \n",
    "#\n",
    "for nClusters in numOfClustersToTest:\n",
    "    km = KMeans(n_clusters=nClusters, random_state=10,tol=.0001, max_iter=1000)\n",
    "    clusterLabels = km.fit_predict(tfidfReviewMatrix)   \n",
    "    silhouette_avg = metrics.silhouette_score(tfidfReviewMatrix, clusterLabels)\n",
    "    sample_silhouette_values = metrics.silhouette_samples(tfidfReviewMatrix, \n",
    "                                                          clusterLabels)\n",
    "    if silhouette_avg > bestSilhoutteScore:\n",
    "        bestSilhoutteScore =  silhouette_avg\n",
    "        bestCluster = nClusters\n",
    "        bestKM = km\n",
    "        clusters = km.labels_\n",
    "\n",
    "#\n",
    "# Graph and Print out the results\n",
    "#\n",
    "    \n",
    "    print ('For {} clusters'.format(nClusters))\n",
    "    print (Counter(km.labels_))\n",
    "    print ('Silhoutte score:{:.6f}\\n'.format(silhouette_avg))\n",
    "    \n",
    "print ('-'*20)\n",
    "print('The best clustering was seen with {} clusters'.format(bestCluster))\n",
    "#\n",
    "# Build the cluster list of tuples such that (Movie,ClusterNumber)\n",
    "# Use lists here rather than dictionaires because the order a dictionary\n",
    "# is created is not guaranteed. \n",
    "#        \n",
    "for i, k in enumerate (listOfMovies): clusterListByMovie.append((k,clusters[i]))\n",
    "       "
   ]
  },
  {
   "cell_type": "markdown",
   "metadata": {},
   "source": [
    "#### Question 2 - Characterize what each cluster is centered on semantically\n",
    "It seems clear the **Cluster 0** is centered on Named Entities. This cluster only contains 4 books and the names Sarah, Juno and Musouka are charachters in the books this cluster. Also, the books *The Descent*, and *The Descent: Part 2* are most likely part of a series and is very likely some if not all of these names are in these books. This cluster also has other nouns which name people like *scientist* and *sheriff* so it makes sense that they are all put together.\\n\n",
    "**Cluster 1** and **Cluster 2** share some of the same features. Words like *film*, *movie*, *horror* and *story* are each features of both clusters. This makes it seem as if these two clusters have more in common than they do with **Cluster 0**.  The two features that distinguish **Cluster 1** from **Cluster 2** are *good* and *watch*. These features appear in **Cluster 2** and could mean these movies were more favorably rated then the movies in **Cluster 1**. A good next step would be tolook at the titles of these movies and compare user ratings to see if each cluster has similar user rating scores."
   ]
  },
  {
   "cell_type": "code",
   "execution_count": 9,
   "metadata": {},
   "outputs": [
    {
     "name": "stdout",
     "output_type": "stream",
     "text": [
      "Cluster 0 details:\n",
      "--------------------\n",
      "Key features: ['sarah', 'juno', 'woman', 'masuoka', 'cave', 'friends', 'family', 'starry', 'father', 'mutilation']\n",
      "Movies in this cluster:\n",
      "The Descent, Dans ma peau, The Woman, Starry Eyes, Marebito, The Descent: Part 2, Splice\n",
      "========================================\n",
      "Cluster 1 details:\n",
      "--------------------\n",
      "Key features: ['horror', 'one', 'like', 'story', 'well', 'good', 'really', 'characters', 'see', 'first']\n",
      "Movies in this cluster:\n",
      "The Wailing, 28 Days Later..., Let the Right One In, Busanhaeng, The Conjuring, Pitch Black, A Quiet Place, [Rec], The VVitch: A New-England Folktale, I Saw the Devil, It Follows, Insidious, Martyrs, The Mist, Sinister, Battle Royale, Saam gaang yi, Saw, A Tale of Two Sisters, Eden Lake, Split, The Devil's Rejects, House of 1000 Corpses, Trollhunter, Shutter, The Orphanage, It, The Others, The Hills Have Eyes, Drag Me to Hell, Southbound, Silent Hill, Noroi, The Babadook, 1408, Under the Shadow, Kairo, The Autopsy of Jane Doe, Baskin, Kokuhaku, The Devil's Candy, The Void, The Ring, The Devil's Backbone, Mientras duermes, Ju-on: The Grudge, The Invitation, Hush, 30 Days of Night, 28 Weeks Later, Kim Bok-nam salinsageonui jeonmal, Inside, Jeepers Creepers, See prang, Ha phraeng, The House of the Devil, Taxidermia, Gozu, High Tension, The Cabin in the Woods, Gin gwai, Dawn of the Dead, Ginger Snaps, Ginger Snaps 2: Unleashed, Otesánek, Brotherhood of the Wolf, Shadow of the Vampire, The Loved Ones, Grave, The Conjuring 2, Red Eye, The Hallow, Let Me In, Thirst, We Are Still Here, Tsumetai nettaigyo, You're Next, Jigoku de naze warui, Gui si, Session 9, Reincarnation, Dark Water, The Skeleton Key, A Girl Walks Home Alone at Night, Antichrist, Resolution, Don't Breathe, Lights Out, Evil Dead, Trick 'r Treat, Joy Ride, Yogen, The Conspiracy, The Neon Demon, Absentia, It Comes at Night, Alone, The Crazies, Dead Silence, Kimyô na sâkasu, Green Room, The Host, The Last House on the Left, Jisatsu sâkuru, Dead Snow, Them, Triangle, Dead End, Gwai wik, Black Death, Macabre, Ladda Land, Grave Encounters, Los ojos de Julia, Hellraiser: Inferno, The Lords of Salem, Ju-on 2, The Girl Next Door, The Seasoning House, Frontier(s), Wrong Turn, Resident Evil, One Missed Call, The Haunting in Connecticut, The Uninvited, Excision, El habitante incierto, Ringu 0, The Girl with All the Gifts, Pon, Dabbe: Bir Cin Vakasi, [Rec] 2, Behind the Mask: The Rise of Leslie Vernon, Bone Tomahawk, Goodnight Mommy, Voice, Noriko no shokutaku, Orphan, The Collector, Exte: Hair Extensions, Program na winyan akat, Koroshiya 1, Spring, Calvaire, Hansel and Gretel, Chained, Unfriended, May, Maggie, American Mary, The Gift, Oculus, The Tunnel, Mama, Stake Land, Hidden, Wishing Stairs, Crimson Peak, The Signal, V/H/S/2, V/H/S, La casa del fin de los tiempos, Sauna, Fido, The Strangers, The Cell, Wolf Creek, Coherence, The Woman in Black, Funny Games, The Red Shoes, Frágiles, Dog Soldiers, Maniac, Geoul sokeuro, Kill List, Fritt vilt, Cold Prey 2, The Exorcism of Emily Rose, End of the Line, Splinter, The Pact, Naboer, Mother's Day, What Lies Beneath, Vacancy, Amer, The Poughkeepsie Tapes, From Hell, The Abandoned, Paranormal Activity, 13 Sins, The Caller, Spiral, Maléfique, Devil, Saw II, Saw III, Livide, Final Prayer, R-Point, The Tall Man, Final Destination, Final Destination 2, I Spit on Your Grave, The Last Exorcism, The Mothman Prophecies, The Texas Chainsaw Massacre, The Texas Chainsaw Massacre: The Beginning, Hostel, Insidious: Chapter 2, The Midnight Meat Train, Mirrors, Jug Face, Frozen, The Grudge, Case 39, The Ruins, The Possession, The Awakening, Honeymoon, The Bay, The Shrine, The Innkeepers, Haunter, Open Grave, The Canal, The Amityville Horror, Stay Alive, No One Lives, Bug, Welp, Eskalofrío, Freddy vs. Jason\n",
      "========================================\n"
     ]
    }
   ],
   "source": [
    "#\n",
    "# Get cluster information into form for displaying\n",
    "#\n",
    "clusterInfo = {}\n",
    "centers = bestKM.cluster_centers_.argsort()[:,::-1]\n",
    "for clusterNum in range(bestCluster):\n",
    "    movies = []\n",
    "    clusterInfo[clusterNum] = {}\n",
    "    clusterInfo[clusterNum]['clusterNum'] = clusterNum\n",
    "    keyFeatures = [tfidfReviewFeatureNames[i] for i in centers[clusterNum,:10]]\n",
    "    clusterInfo[clusterNum]['keyFeatures'] = keyFeatures\n",
    "    for x, y in enumerate(clusterListByMovie):\n",
    "        if clusterListByMovie[x][1] == clusterNum: movies.append(y[0])\n",
    "\n",
    "    clusterInfo[clusterNum]['movies'] = movies\n",
    "#\n",
    "# Print out thge cluster information for the number of clusters with highest score.\n",
    "#\n",
    "for cluster_num, cluster_details in clusterInfo.items():\n",
    "    print ('Cluster {} details:'.format(cluster_num))\n",
    "    print ('-'*20)\n",
    "    print ('Key features:', cluster_details['keyFeatures'])\n",
    "    print ('Movies in this cluster:')\n",
    "    print (', '.join(cluster_details['movies']))\n",
    "    print ('='*40)  "
   ]
  },
  {
   "cell_type": "markdown",
   "metadata": {},
   "source": [
    "#### Reduce the dimensionality of the feature matrix\n",
    "Here I reduce the dimensionality of the feature matrix to put it into a form that can be better visualized. Note that using 2 principal components each principal component explains nearly the same amount of variance. This is further evidence the our data is randomly scattered and not well clustered."
   ]
  },
  {
   "cell_type": "code",
   "execution_count": 10,
   "metadata": {},
   "outputs": [
    {
     "name": "stdout",
     "output_type": "stream",
     "text": [
      "\n",
      "The vector for each Principle Component\n",
      "---------------------------------------\n",
      "The vector for the First Principle Component is:[ 0.00122882 -0.00132897  0.03448237 ...  0.00156969 -0.000493\n",
      "  0.00062914]       \n",
      "The vector for the Second Principle Component is [-0.00368408  0.00043324  0.13165804 ...  0.00063595 -0.00089803\n",
      " -0.00132769]\n",
      "\n",
      "The variance explained by each Principle Component\n",
      "-----------------------------------------------------\n",
      "The variance for the First Principle Component is:0.008356459438986741       \n",
      "The variance for the Second Principle Component is 0.008243176008905182\n"
     ]
    }
   ],
   "source": [
    "#\n",
    "# Change tfidfReviewMatrix Sparse Matrix into a numpy matrix\n",
    "# Reduce dimensionalty by create PCA matrix\n",
    "#\n",
    "tfpd = pd.DataFrame(tfidfReviewMatrix.todense())   \n",
    "pca = PCA(n_components=2).fit(tfpd)  \n",
    "tfpdPcaTransform = pca.fit_transform(tfpd)  \n",
    "       \n",
    "print ('\\nThe vector for each Principle Component')\n",
    "print ('---------------------------------------')\n",
    "print('The vector for the First Principle Component is:{} \\\n",
    "      \\nThe vector for the Second Principle Component is {}'.format(\n",
    "      pca.components_[0],pca.components_[1]))\n",
    "\n",
    "print ('\\nThe variance explained by each Principle Component')\n",
    "print ('-----------------------------------------------------')\n",
    "print('The variance for the First Principle Component is:{} \\\n",
    "      \\nThe variance for the Second Principle Component is {}'.format(\n",
    "      pca.explained_variance_[0],pca.explained_variance_[1]))"
   ]
  },
  {
   "cell_type": "markdown",
   "metadata": {},
   "source": [
    "#### Fit the K-means clustering model on the PCA matrix"
   ]
  },
  {
   "cell_type": "code",
   "execution_count": 11,
   "metadata": {},
   "outputs": [
    {
     "name": "stdout",
     "output_type": "stream",
     "text": [
      "\n",
      "The centroid coordinates for each group\n",
      "-----------------------------------------\n",
      "[[-0.00827968 -0.00415512]\n",
      " [ 0.65685434  0.32963934]]\n"
     ]
    }
   ],
   "source": [
    "kmeans = KMeans(n_clusters=bestCluster)\n",
    "clusterLabels = kmeans.fit_predict(tfpdPcaTransform)\n",
    "centroid = kmeans.cluster_centers_\n",
    "labels = kmeans.labels_\n",
    "print ('\\nThe centroid coordinates for each group')\n",
    "print ('-----------------------------------------')\n",
    "print (centroid)"
   ]
  },
  {
   "cell_type": "code",
   "execution_count": 12,
   "metadata": {},
   "outputs": [
    {
     "data": {
      "image/png": "[encoded data removed]",
      "text/plain": [
       "<Figure size 864x864 with 1 Axes>"
      ]
     },
     "metadata": {},
     "output_type": "display_data"
    }
   ],
   "source": [
    "fig, ax = plt.subplots(1, 1, figsize=(12, 12))\n",
    "fig.subplots_adjust(left=0.0625, right=0.95, wspace=0.1)\n",
    "colors = cm.jet(clusterLabels.astype(float) / bestCluster)\n",
    "ax.scatter(tfpdPcaTransform[:, 0], tfpdPcaTransform[:, 1], marker='.', s=300, lw=0, alpha=0.7,\n",
    "                c=colors, edgecolor='k')\n",
    "\n",
    "    # Labeling the clusters\n",
    "centers = kmeans.cluster_centers_\n",
    "    # Draw white circles at cluster centers\n",
    "ax.scatter(centers[:, 0], centers[:, 1],marker='o',\n",
    "                c=\"white\", alpha=1, s=400, edgecolor='k')\n",
    "\n",
    "ax.set_title(\"The visualization of the clustered data.\", fontsize=20)\n",
    "ax.set_xlabel(\"Feature space for the 1st principal component\", fontsize=15)\n",
    "ax.set_ylabel(\"Feature space for the 2nd principal component\", fontsize=15)\n",
    "\n",
    "plt.suptitle((\"KMeans clustering on PCA data \"\n",
    "              \"with n_clusters = %d\" % bestCluster),\n",
    "            fontsize=25, fontweight='bold')\n",
    "        \n",
    "ax.xaxis.set_tick_params(labelsize=20)\n",
    "ax.yaxis.set_tick_params(labelsize=20)\n",
    "\n",
    "plt.show()"
   ]
  },
  {
   "cell_type": "code",
   "execution_count": null,
   "metadata": {},
   "outputs": [],
   "source": []
  },
  {
   "cell_type": "markdown",
   "metadata": {},
   "source": [
    "#### Load the VADER sentiment lexicon and find the sentiment for each review\n",
    "The VADER ( Valence Aware Dictionary and sEntiment Reasoner) is a lexicon and a rules based sentiment analysis library specifically aimeded at social media.  It is an open source library made available under the MIT Licences. It is a rules based library whose lexicon is made up of words known to be heavily used in social media. It goes beyond simple lexicon analysis to score text by using other parts of the review beyond words. VADER's ability to make sense of more than just words means we do not do the normal type of normalization on text before feeding into the analyer.  We want to make use of these features so we do not perform steps like removing punctuation, change to all lower case, or remove stop words. The followin list outlines some of VADER's features.\n",
    "\n",
    "- *Punctuation* The use of an exclamation mark adds weight to sementic scoring of the phrases preceeding it. Multiple exclamation marks increse that weight\n",
    "- *Capitalization*- The use all caps in a word for emphasis also increases the weight of the words in all caps\n",
    "- *Conjunctions* - The word **but** signals VADER that the change in sentiment has occurred in the phrase will change the scoring of that phrase accordingly.\n",
    "- *Preceding Tri-gram* - When the analysis finds a feature that has a high sentiment score, it will go back and re-examine the preceding Tr-gram. This helps identify negation flips in the polarity of the text.\n",
    "- *Emoji's, Slang, Emoticons* - VADER can identify series of characters that are not words, but are used to convey sentiment in text such as social media. It uses thes to assign sentiment scores to the series of characters.\n",
    "\n",
    "The section below uses VADER to score the reviews gathered from IMDB. The sentiment analysis of the first ten reviews are shown.\n",
    "There is at least one review that seems to be positive which is rated negative. One possible reason for this is the genre of movie being reviewed is horror. It is likely that words used to describe a horror movie in a positve sense are weighted negatively in the lexicon. We would most likely have to heavily customize our lexicon to get accurate sentiment for words like *horror* and *mutilation*."
   ]
  },
  {
   "cell_type": "code",
   "execution_count": 14,
   "metadata": {},
   "outputs": [
    {
     "name": "stdout",
     "output_type": "stream",
     "text": [
      "Review:\n",
      "SPOILER: Have seen a lot of films, reviewed a lot of films but this extraordinary two and a half hour technically-perfect humanistic horror film from one of the finest writer/directors in the business (auteur of I SAW THE DEVIL) was something of a cipher.  The closest analog I can suggest in David Lynch's 2001's Mulholland Drive, yet another technically perfect, humanistic, suspense opus which keeps you captivated for its full length, yet has you walking out of the theatre shaking your head and wondering what exactly you just saw? Both film-makers understand the \"big secret\" of story telling which is, if you can present your story in such a way that the viewer feels he or she is sharing the experience with the protagonist, you can tell any story you like and the viewer will just keep going.  I will not even try to provide an explanation for what THE WAILING means, other than to re-quote the writer/director himself who, in numerous interviews on his film, said enigmatically \"I began to wonder about the nature of God -- what if he was not always good?\" Recommended on many levels. As entertainment, as a puzzle, and as a clinic in how to make a film that engages ... and just won't let go.\n",
      "\n",
      "     SENTIMENT STATS:                                         \n",
      "  Predicted Sentiment Polarity Score Positive Negative Neutral\n",
      "0            positive           0.95    11.0%     4.0%   85.0%\n",
      "------------------------------------------------------------\n",
      "Review:\n",
      "Perhaps I'm a little biased. After all, this is set in the city I live and work in, and seeing Oxford Street and Piccadilly Circus, which I pass by every morning and which are usually teeming with crowds of people, completely empty was enough to send shivers down my spine. Usually when you watch a movie like this it's located in some nondescript Midwestern village, which makes it easy to detach yourself from the events unfolding on screen. But seeing them occur in the place you call home is something that gives it an entirely new sense of reality, and one I was previously unaccustomed to.  Still, judging 28 Days Later entirely on its merit as a film, it's easy to arrive at the conclusion that it's a fantastic achievement, as well as a coming-of-age of sorts for director Danny Boyle; I can't say the MTV-inspired vanity of The Beach, or the self-consciously trendy posturing of Trainspotting appealed to me, and to my shame I initially expected 28 Days Later to be given a similar treatment. Thankfully, my fears proved unfounded, discarded straight after a opening sequence which is at once effortless and fearsome. The rest of the movie was a joy. A terrifying joy, but a joy nonetheless.  It's true that sometimes minimalism can be more effective than overblown bravado, and it's definitely true for this movie. It's the scenes of complete silence which get to you the most; an entire metropolis empty. The grainy picture serves to add a documentary-style quality to the film, which makes the whole situation seem almost too real to bear. Definitely a wise choice to film this on digital video.  You will occasionally meet people who thought 28 Days Later wasn't 'scary' or 'gory' enough. These are the same people who will tell you that 2001 was 'boring', or that Memento was 'confusing'. Ignore them. Others didn't understand the purpose of the second half, or were confused by its change of pace, feeling that it distracted from the movie as a whole. However, I personally regard the second half as very important because, as another reviewer pointed out, it makes a very succinct point: What is scarier, the end of the world, or having the world repopulated by maniacs? That, I think, is where the real Horror of 28 Days Later lies.  28 Days Later, like the Romero zombie flicks of yore, is ultimately an allegory of the days we are living in, an age in which we are constantly confronted with violence by the media (much like the ape right at the start of the film), where violence begets violence, and humanity faces an uncertain future. I applaud Danny Boyle's bravery in making 28 Days Later because he undoubtedly took a big commercial risk when the majority of the cinema-going public might prefer escapism to words of caution. Remember, Rage is a human-made disease. Quite the allegory there.  Like most great masterpieces of their time, 28 Days Later has been misunderstood by a considerable amount of people. I have no doubt it will go down in history as a classic, the one movie which perfectly sums up the confused era we are living in. And even if you didn't like it, it would be advisable to give 28 Days Later another chance; it's a haunting experience when looked at from the right angle. Danny Boyle has many years left in him, I hope he'll continue making more movies like this.\n",
      "\n",
      "     SENTIMENT STATS:                                         \n",
      "  Predicted Sentiment Polarity Score Positive Negative Neutral\n",
      "0            positive           0.97    15.0%    12.0%   73.0%\n",
      "------------------------------------------------------------\n",
      "Review:\n",
      "Let the Right one In is like no other vampire movie that I have ever seen. It is smarter, scarier and more nuanced. It doesn't feel like a thriller, it feels like literature.  The film, which details the bizarre misadventures of a pair of pre-teen star crossed lovers, one of whom is an androgynous vampire, is phenomenal in almost every regard. The details of young Oskar's (Kare Hedebrant) life are spot on. Stuck in that incredibly painful period of post-childhood, pre-adolescence, Oskar is aware of girls, but has no idea how to contend with them. He is small for his age and is brutalized by other boys as a result. He's terribly alone and collects news clips of violent crimes as a way of letting out his rage. One day a strange young girl named Eli (Lina Leandersson) appears on the playground. They become fast friends and things begin to look up for Oskar. Eli even (innocently) spends the night on occasion.  Meanwhile, we are privy to some things that Oskar doesn't know. As it happens, Eli's caretaker is a serial killer of the most brutal order, desanguinating his victims into a bucket. Soon, Oskar comes to realize that his new friend is a bit more than she seemed at first.  After a tragedy of shocking violence Eli is left to fend for herself, trying desperately to stave off the urge to drink fresh blood while also forming a delicate new bond with Oskar.  There is already a remake of Let the Right one In on the way. But don't wait for it. There is no way it could ever hope to capture the magic of the original. It's not just that this film is gorgeously shot. Not just that it is impeccably written. Not just that it is fully realized with an unmatched respect for vampire lore. It is all in the acting. Even if the producers find two amazing young actors, the odds against recapturing the brilliant, melancholy chemistry are astronomical.  Everything about Let the Right one In is thought through. Where a more traditional horror film might have opted for endless ultra violence or else cut everything out in favor of a kiddie friendly rating. director Tomas Alfredson steers the line right down the middle. When the violence comes it is brutal and horrific, but it is never dwelt upon. We are left to question what we just saw rather than see kidneys on display.  Too, there is a great stillness to the film. The first half of the film it mimics Oskar's stage. Stuck in between. Never moving, with no hope of growth. But as things begin to change, it becomes apparent that the stillness is not for Oskar but rather for Eli. Oskar will grow up, change and become a man. Eli is stuck in a much more burdensome fate.  And then there is the quiet, understated ending. Some will find it haunting, others will find it whimsical, I went back and forth more than a few times. No two people will have the same understanding.  This is the kind of movie people beg for. Don't miss it. This is the first time since perhaps Silence of the Lambs that a horror film had a real chance to take home some Oscar gold. And not only that, it will deserve it.  A+\n",
      "\n",
      "     SENTIMENT STATS:                                         \n",
      "  Predicted Sentiment Polarity Score Positive Negative Neutral\n",
      "0            negative           -1.0    11.0%    19.0%   70.0%\n",
      "------------------------------------------------------------\n",
      "Review:\n",
      "Train to Busan was a treat for the mind and the eyes. \n",
      "It is also a look into capitalism vs humanity and man vs empathy.\n",
      "I cannot remember the last time I enjoyed a foreign film this much. The acting was excellent (except for the effeminate young man), the story was original and I will definitely be keeping an eye on the delicious cheerleader.\n",
      "\n",
      "     SENTIMENT STATS:                                                     \n",
      "  Predicted Sentiment Polarity Score             Positive Negative Neutral\n",
      "0            positive           0.96  28.000000000000004%     0.0%   71.0%\n",
      "------------------------------------------------------------\n",
      "Review:\n",
      "Who would've guessed that the director of Saw would end up being the most inventive horror filmmaker working in the industry? James Wan brilliantly takes us back to the retro days of horror, delivering an extremely stylistic, visually striking horror film that stands tall amongst the classics. With virtually no sex, no gore and no cursing The Conjuring earns its R-rating on scares alone.  Set in 1971, The Conjuring focuses on the married paranormal researchers Ed (Patrick Wilson) and Lorraine (Vera Farmiga) Warren, who lecture at colleges across the US on all the interesting cases they come across. Just as they're thinking of retirement cue the Perron family; parents Roger (Ron Livingston) and Carolyn (Lili Taylor) are scared for their lives and the lives of their 5 daughters claiming there is something evil in their now Rhode Island home. It doesn't take long for the Warrens to discover that the Perron's are being tormented by something supernatural, but what is it, and what does it want?  In short: The Conjuring is the most terrifying film I've ever seen. Trying to erase his name from the \"torture porn\" crowd has proved difficult for the director of Saw, however without a doubt he's finally done it. On looks alone this movie should be a PG movie, which would normally be frowned upon by the horror junkies, but despite having no sex, no gore and no swearing, James Wan's latest film has been slapped with an R rating anyway. If you're wondering how frightening it actually is I think the MPAA has spoken on its behalf.  Most horror films these days climax somewhere in the middle; and in turn everything that follows doesn't really have the same affect. In The Conjuring there is comic relief brilliantly placed throughout to bring you down from your own climax so they get another chance to build your fear up and startle you again. Wan understands the psychology behind tension and builds suspense through mere scene construction.  While obviously taking notes from the Exorcist and The Amityville Horror, the inspiration for this film derives from real case files from the Warren's, which is still their most famous case to date. Straying away from the ironic style made famous by The Cabin In The Woods, nothing on the surface of this story seems inventive, but I assure you the way in which this film works makes it one of the most creative films in recent memory. One thing I've always loved about James Wan is how he manages to take something so unoriginal, like the haunted-house- possession story in this case, and shows it to us like we've never seen it before.  The scares, pacing, sound design and camera work can only be described as precise. Together James Wan and cinematographer John Leonetti (responsible for the look of Insidious as well) give us a fresh visual style that, unlike most horror films, include a lot of wide shots AND movement. The cinematography is absolutely stunning, and not relying on shaky cam for its realism leaves a rather unique feel to the movie, separating it visually from any other movie you can narratively relate this to.  One issue I've always had with recent films in the genre was that they revealed the demons too much. Insidious and Sinister are examples where they hooked me to the story and then showed me too much. Fear of the unknown is the greatest thing a horror filmmaker has on its audience and Wan has definitely learned from Insidious. In The Conjuring the apparitions aren't revealed to the audience until way late, and even then they're far away or out of focus. Letting us use our imagination is what makes this film truly horrifying, and I think horror filmmakers should be taking notes from Mr. Wan.  This film is everything I wanted it to be and more, my only complaint about the movie isn't even something wrong with the film. Once again marketing has screwed us over and the trailer for The Conjuring reveals way too many of the scares. I avoided most of the trailers for this movie on command from James Wan's twitter account but it's hard to miss TV spots. I wish I went into this with a fresh mind so if you still haven't seen the trailer and want to see this film, please stay away from any of the marketing!  Ultimately the overall production value allows The Conjuring to stand out in an otherwise rotting genre. The acting is impressive, the practical effects are perfect and the classic 70s feel Wan was going for make for a great time at the movies. This is the first must-see film of the summer.  Our Rating: 9.0/10  Let me know on Twitter @thejoshl what you thought of The Conjuring!\n",
      "\n",
      "     SENTIMENT STATS:                                                     \n",
      "  Predicted Sentiment Polarity Score Positive             Negative Neutral\n",
      "0            negative          -0.98    11.0%  14.000000000000002%   76.0%\n",
      "------------------------------------------------------------\n"
     ]
    }
   ],
   "source": [
    "#\n",
    "# Use the VADER lexicon\n",
    "#\n",
    "sid = SentimentIntensityAnalyzer()  \n",
    "def analyzeSentimentVaderLex (review, threshold = 0.1, verbose = False):\n",
    "#    tfPreProcess = TfidfVec.build_preprocessor()\n",
    "#    cleanReview = tfPreProcess(review)\n",
    "#    scores = sid.polarity_scores(cleanReview)\n",
    "    scores = sid.polarity_scores(review)\n",
    "    aggScore = scores['compound']\n",
    "    finalSent = 'positive' if aggScore >threshold else 'negative'\n",
    "    positive = str(round(scores['pos'],2)*100)+'%'\n",
    "    final = round(aggScore, 2)\n",
    "    negative = str(round(scores['neg'],2)*100)+'%'\n",
    "    neutral = str(round(scores['neu'],2)*100)+'%'\n",
    "    sentFrame = pd.DataFrame([[finalSent, final, positive,\n",
    "                               negative, neutral]],\n",
    "        columns=pd.MultiIndex(levels=[['SENTIMENT STATS:'], \n",
    "                                      ['Predicted Sentiment', 'Polarity Score',\n",
    "                                       'Positive', 'Negative',\n",
    "                                       'Neutral']], \n",
    "                              labels=[[0,0,0,0,0],[0,1,2,3,4]]))\n",
    "    if verbose: print (sentFrame);\n",
    "    return(scores, sentFrame)\n",
    "    \n",
    "# Look at a sample of Reviews\n",
    "sampleOfReviews = listOfReviews[0:5]\n",
    "for review in sampleOfReviews[:10]:\n",
    "    print ('Review:')\n",
    "    print (review)\n",
    "    print ()\n",
    "    analyzeSentimentVaderLex(review, threshold =0.0, verbose = True)\n",
    "    print ('-'*60)"
   ]
  },
  {
   "cell_type": "markdown",
   "metadata": {},
   "source": [
    "#### Examine the key features of the clusters previously identified\n",
    "The key features from each cluste are relatively neutral and don't provide much information about the senitment of each cluster. If we had a more custom lexicon as described above there may be a change in the sentiment of the different clusters."
   ]
  },
  {
   "cell_type": "code",
   "execution_count": 15,
   "metadata": {},
   "outputs": [
    {
     "name": "stdout",
     "output_type": "stream",
     "text": [
      "--------------------------------------------------------------------------------\n",
      "Cluster#   Avg        Min        Max        Median     \n",
      "--------------------------------------------------------------------------------\n",
      "    0      0.0477    0.0000     0.4767    0.0000\n",
      " Words: ['sarah', 'juno', 'woman', 'masuoka', 'cave', 'friends', 'family', 'starry', 'father', 'mutilation']\n",
      "--------------------------------------------------------------------------------\n",
      "    1      0.0503    -0.5719     0.4404    0.0000\n",
      " Words: ['horror', 'one', 'like', 'story', 'well', 'good', 'really', 'characters', 'see', 'first']\n",
      "--------------------------------------------------------------------------------\n"
     ]
    }
   ],
   "source": [
    "print('-'*80)\n",
    "print('{:10} {:10} {:10} {:10} {:10} '.format('Cluster#', 'Avg', 'Min',\n",
    "     'Max','Median'))\n",
    "print('-'*80)\n",
    "for clusterNum in range(bestCluster):\n",
    "    cluster = []\n",
    "    for word in clusterInfo[clusterNum]['keyFeatures']:\n",
    "        scores, sentiment = analyzeSentimentVaderLex(word, threshold = 0.0, \n",
    "                                                 verbose = False)\n",
    "        cluster.append(scores['compound'])\n",
    "    print('{:^10d} {:^1.4f}    {:^1.4f}     {:1.4f}    {:1.4f}\\n Words: {}'.format(\n",
    "            clusterNum, mean(cluster), min(cluster), max(cluster), \n",
    "            median(cluster), clusterInfo[clusterNum]['keyFeatures']))\n",
    "    print('-'*80)\n",
    " \n"
   ]
  },
  {
   "cell_type": "code",
   "execution_count": null,
   "metadata": {},
   "outputs": [],
   "source": []
  }
 ],
 "metadata": {
  "kernelspec": {
   "display_name": "Python 3",
   "language": "python",
   "name": "python3"
  },
  "language_info": {
   "codemirror_mode": {
    "name": "ipython",
    "version": 3
   },
   "file_extension": ".py",
   "mimetype": "text/x-python",
   "name": "python",
   "nbconvert_exporter": "python",
   "pygments_lexer": "ipython3",
   "version": "3.6.6"
  }
 },
 "nbformat": 4,
 "nbformat_minor": 2
}
