{
 "cells": [
  {
   "cell_type": "markdown",
   "metadata": {},
   "source": [
    "## Michael Toolin - Homework Week 1\n",
    "## NLP DS7337-403"
   ]
  },
  {
   "cell_type": "code",
   "execution_count": 1,
   "metadata": {},
   "outputs": [
    {
     "name": "stderr",
     "output_type": "stream",
     "text": [
      "[nltk_data] Downloading package punkt to\n",
      "[nltk_data]     C:\\Users\\mtool\\AppData\\Roaming\\nltk_data...\n",
      "[nltk_data]   Package punkt is already up-to-date!\n",
      "[nltk_data] Downloading package stopwords to\n",
      "[nltk_data]     C:\\Users\\mtool\\AppData\\Roaming\\nltk_data...\n",
      "[nltk_data]   Package stopwords is already up-to-date!\n"
     ]
    }
   ],
   "source": [
    "import nltk\n",
    "nltk.download('punkt')\n",
    "nltk.download('stopwords')\n",
    "from nltk.corpus import PlaintextCorpusReader\n",
    "from nltk import word_tokenize\n",
    "from urllib import request\n",
    "import re\n",
    "import numpy as np\n",
    "import matplotlib.pyplot as plt"
   ]
  },
  {
   "cell_type": "code",
   "execution_count": 2,
   "metadata": {},
   "outputs": [
    {
     "name": "stdout",
     "output_type": "stream",
     "text": [
      "Book 1 read in... 168150\n",
      "Book 2 read in... 388599\n",
      "Book 3 read in... 605269\n"
     ]
    }
   ],
   "source": [
    "# Read in the three text files\n",
    "#    Book 1 - McGuffey's Third Eclectic Reader - pg14766.txt\n",
    "#    Book 2 - McGuffey's Fourth Eclectic Reader - pg14880.txt\n",
    "#    Book 3 - McGuffey's Fifth Eclectic Reader - pg15040.txt\n",
    "\n",
    "url1 = 'http://www.gutenberg.org/cache/epub/14766/pg14766.txt'\n",
    "url2 = \"http://www.gutenberg.org/cache/epub/14880/pg14880.txt\"\n",
    "url3 = \"http://www.gutenberg.org/cache/epub/15040/pg15040.txt\"\n",
    "\n",
    "response = request.urlopen(url1)\n",
    "raw1 = response.read().decode('utf8')\n",
    "print (\"Book 1 read in...\",len(raw1))\n",
    "\n",
    "response = request.urlopen(url2)\n",
    "raw2 = response.read().decode('utf8')\n",
    "print (\"Book 2 read in...\",len(raw2))\n",
    "\n",
    "response = request.urlopen(url3)\n",
    "raw3  = response.read().decode('utf8')\n",
    "print (\"Book 3 read in...\",len(raw3))\n"
   ]
  },
  {
   "cell_type": "code",
   "execution_count": 3,
   "metadata": {},
   "outputs": [],
   "source": [
    "# This function works specifically with McGuffey books. I have\n",
    "# visually inpsected them to all have the same format. Should not assume\n",
    "# it will work with any other of the books.\n",
    "\n",
    "def prepNLTK(string, topSep, botSep, debug=True):\n",
    "    newRaw = string.split(topSep,2)[-1]\n",
    "    newerRaw = newRaw.split(botSep,1)[0]\n",
    "    newerRaw1 = newerRaw.strip('\\n')\n",
    "    clean = newerRaw1.strip('\\r')\n",
    "    tokens = word_tokenize(clean)\n",
    "    text = nltk.Text(tokens)\n",
    "    \n",
    "# For debugging\n",
    "    if debug:\n",
    "        print ('------------------------')\n",
    "        print('Raw string ',len(string),type(string))\n",
    "        print ('Header removed ',len(newRaw),type(newRaw))\n",
    "        print ('Trailer removed ',len(newerRaw),type(newerRaw))\n",
    "        print ('Removed n ',len(newerRaw1),type(newerRaw1))\n",
    "        print ('Removed r ',len(clean),type(clean))\n",
    "        print ('Tokens ', len(tokens), type(tokens))\n",
    "        print (tokens[:10])\n",
    "        print (type(text))\n",
    "        print (text[100:110])\n",
    "        print (text.collocations())\n",
    "        print (newerRaw[-63:-1])\n",
    "    \n",
    "    return text"
   ]
  },
  {
   "cell_type": "code",
   "execution_count": 4,
   "metadata": {},
   "outputs": [],
   "source": [
    "def lexicalDiversity (text):\n",
    "    return len(set(text)) / len(text)\n",
    "\n",
    "def percentage (count, total):\n",
    "    return (count/total) * 100\n"
   ]
  },
  {
   "cell_type": "code",
   "execution_count": 5,
   "metadata": {},
   "outputs": [
    {
     "name": "stdout",
     "output_type": "stream",
     "text": [
      "------------------------\n",
      "Raw string  168150 <class 'str'>\n",
      "Header removed  167569 <class 'str'>\n",
      "Trailer removed  148493 <class 'str'>\n",
      "Removed n  148492 <class 'str'>\n",
      "Removed r  148490 <class 'str'>\n",
      "Tokens  34590 <class 'list'>\n",
      "['Produced', 'by', 'Don', 'Kostuch', 'Transcriber', \"'s\", 'Notes', ':', 'Welcome', 'to']\n",
      "<class 'nltk.text.Text'>\n",
      "['characters', 'that', 'have', 'no', 'ASCI', 'equivalent', '.', 'Wherever', 'possible', 'the']\n",
      "THIRD READER; ECLECTIC SERIES; Speak gently; Miss Roberts; little\n",
      "girl; New Year; great deal; One day; Indian corn; Good night; little\n",
      "Gustava; clinkerty clink; one day; Uncle Philip; little boy; little\n",
      "maid; ten years; town yesterday; years old; Mr. Lenox\n",
      "None\n",
      "cGuffey's Third Eclectic Reader\n",
      "by William Holmes McGuffey\n",
      "\n",
      "------------------------\n",
      "Raw string  388599 <class 'str'>\n",
      "Header removed  388015 <class 'str'>\n",
      "Trailer removed  368938 <class 'str'>\n",
      "Removed n  368937 <class 'str'>\n",
      "Removed r  368935 <class 'str'>\n",
      "Tokens  80660 <class 'list'>\n",
      "['Produced', 'by', 'Don', 'Kostuch', '[', 'Transcriber', \"'s\", 'Note', ':', 'Welcome']\n",
      "<class 'nltk.text.Text'>\n",
      "['``', 'do', \"n't\", \"''\", 'was', 'rendered', 'as', '``', 'do', \"n't\"]\n",
      "Incorrect Correct; Mr. Toil; little girl; Robinson Crusoe; Correct\n",
      "Incorrect; Golden Rule; Uncle Ben; years old; Inchcape Rock; Sir\n",
      "Ralph; South America; Lucy Larcom; neighbor Derby; old man; thousand\n",
      "dollars; Hugh Idle; Master Sharp; little boy; poor man; great deal\n",
      "None\n",
      "Guffey's Fourth Eclectic Reader\n",
      "by William Holmes McGuffey\n",
      "\n",
      "------------------------\n",
      "Raw string  605269 <class 'str'>\n",
      "Header removed  604687 <class 'str'>\n",
      "Trailer removed  585611 <class 'str'>\n",
      "Removed n  585610 <class 'str'>\n",
      "Removed r  585608 <class 'str'>\n",
      "Tokens  123220 <class 'list'>\n",
      "['Produced', 'by', 'Don', 'Kostuch', 'ECLECTIC', 'EDUCATIONAL', 'SERIES', '.', \"McGUFFEY'S\", 'FIFTH']\n",
      "<class 'nltk.text.Text'>\n",
      "['The', 'book', 'has', 'been', 'considerably', 'enlarged', ',', 'but', 'the', 'new']\n",
      "New York; United States; falling inflection; rising inflection;\n",
      "following selection; Incorrect Correct; old gentleman; years ago;\n",
      "Great Britain; thou hast; Town Pump; Nelly Gray; best known; little\n",
      "girl; Loch Roag; forty years; first volume; Jane Taylor; William Reed;\n",
      "North America\n",
      "None\n",
      "cGuffey's Fifth Eclectic Reader\n",
      "by William Holmes McGuffey\n",
      "\n"
     ]
    }
   ],
   "source": [
    "debug =1\n",
    "text1 = prepNLTK(raw1, '***', '*** E', True)\n",
    "text2 = prepNLTK(raw2, '***', '*** E', True)\n",
    "text3 = prepNLTK(raw3, '***', '*** E', True)"
   ]
  },
  {
   "cell_type": "code",
   "execution_count": 7,
   "metadata": {},
   "outputs": [
    {
     "name": "stdout",
     "output_type": "stream",
     "text": [
      "Lexical Diversity of book 1 is 0.12038161318300086 and vocabulary size 4164\n",
      "Lexical Diversity of book 2 is 0.12328291594346641 and vocabulary size 9944\n",
      "Lexical Diversity of book 3 is 0.1129767894822269 and vocabulary size 13921\n"
     ]
    }
   ],
   "source": [
    "lexical1 = lexicalDiversity(text1)\n",
    "print ('Lexical Diversity of book 1 is', lexical1, \"and vocabulary size\", len(set(text1)))\n",
    "\n",
    "lexical2 = lexicalDiversity(text2)\n",
    "print ('Lexical Diversity of book 2 is', lexical2, \"and vocabulary size\", len(set(text2)))\n",
    "\n",
    "lexical3 = lexicalDiversity(text3)\n",
    "print ('Lexical Diversity of book 3 is', lexical3, \"and vocabulary size\", len(set(text3)))"
   ]
  },
  {
   "cell_type": "markdown",
   "metadata": {},
   "source": [
    "## Discussion of findings\n",
    "The three books examined were each part of McGuffey's Eclectic Reader series. I examined books for third graders, fourth graders and fifth graders. I found that the total size of each book increased with grade level, with the fifth grade book being almost four times as long as the third grade book. This is an expected result; as children get older they are able to read longer books.  Two lexical statistics are examined to measure the complexity of each of the texts.  The first is the vocabulary which is the set of unique tokens in the text.  The second statistic is lexical diversity which is the proportion of unique tokens in a text to the total number of tokens in the same text. When vocabulary size is examined, the size more than doubles from third to fourth grade, and then increases appoximately fifty percent from fourth to fifth grade.  This is also an expected result as we would think a fourth grade vocabulary is much larger than that of third grade, and the fifth grade vocabulary continues to increase compared to fourth grade.  The lexical diversity remains relatively steady between the three texts. This is expected since lexical diversity measures the number of unique words to the total size of the text and in an education text the goal is to teach the student.  Even though vocabulary is increasing, the mix of unique words does not so the text is not confusing to the student.\n",
    "\n",
    "Since lexical diversity is a measure of range of use of the vocabulary in the text, it follows that a text with a higher vocabulary **and** a higher lexical diverity would indicate a text with a higher reading level. A large vocabulary alone indicates a large number of unique words, but if they are only used once, or there are several sentences used as definitions, this could lead to large vocabulary, but a low lexical diversity.  Conversely, a lower vocabulary with a high lexical diversity could indicate a shorter text and only shows the small number of unique words are mixed in well in the text.  The combination of a larger vocabulary (usually indicating longer text) and a higher lexical diversity indicates more words used in a unique fashion. This type of text would be a appropriate for a higher reading level."
   ]
  },
  {
   "cell_type": "code",
   "execution_count": null,
   "metadata": {},
   "outputs": [],
   "source": []
  }
 ],
 "metadata": {
  "kernelspec": {
   "display_name": "Python 3",
   "language": "python",
   "name": "python3"
  },
  "language_info": {
   "codemirror_mode": {
    "name": "ipython",
    "version": 3
   },
   "file_extension": ".py",
   "mimetype": "text/x-python",
   "name": "python",
   "nbconvert_exporter": "python",
   "pygments_lexer": "ipython3",
   "version": "3.6.6"
  }
 },
 "nbformat": 4,
 "nbformat_minor": 2
}
