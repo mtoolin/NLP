{
 "cells": [
  {
   "cell_type": "code",
   "execution_count": 1,
   "metadata": {},
   "outputs": [
    {
     "name": "stderr",
     "output_type": "stream",
     "text": [
      "[nltk_data] Downloading package wordnet to\n",
      "[nltk_data]     C:\\Users\\mtool\\AppData\\Roaming\\nltk_data...\n",
      "[nltk_data]   Package wordnet is already up-to-date!\n"
     ]
    }
   ],
   "source": [
    "import nltk\n",
    "import numpy as np\n",
    "from nltk.metrics import *\n",
    "from nltk.corpus import stopwords\n",
    "import matplotlib.pyplot as plt\n",
    "#import pattern3.text.en\n",
    "from pattern.en import tag\n",
    "nltk.download('wordnet')\n",
    "from difflib import SequenceMatcher\n",
    "\n"
   ]
  },
  {
   "cell_type": "markdown",
   "metadata": {},
   "source": [
    "# Homework 3\n",
    "### Question 1 \n",
    "1.\tCompare your given name with your nickname (if you don’t have a nickname, invent one for this assignment) by answering the following questions:\n",
    "  *\tWhat is the edit distance between your nickname and your given name?\n",
    "  *\tWhat is the percentage string match between your nickname and your given name?\n"
   ]
  },
  {
   "cell_type": "code",
   "execution_count": 2,
   "metadata": {},
   "outputs": [
    {
     "name": "stdout",
     "output_type": "stream",
     "text": [
      "The edit distance from Michael to Mike is 4\n",
      "\n",
      "My given name Michael and nickname Mike are 54.55% similar\n",
      "\n"
     ]
    }
   ],
   "source": [
    "givenName = 'Michael'\n",
    "nickName = 'Mike'\n",
    "\n",
    "editDist = edit_distance(givenName,nickName)\n",
    "pctDist = (SequenceMatcher(None, givenName, nickName).ratio())*100\n",
    "\n",
    "print ('The edit distance from {} to {} is {}\\n'.\n",
    "       format(givenName,nickName,editDist))\n",
    "print ('My given name {} and nickname {} are {:2.2f}% similar\\n'.\n",
    "      format(givenName, nickName,pctDist))"
   ]
  },
  {
   "cell_type": "markdown",
   "metadata": {},
   "source": [
    "### Question 2\n",
    "2.\tFind a friend (or family member or classmate) who you know has read a certain book. Without your friend knowing, copy the first two sentences of that book. Now rewrite the words from those sentences, excluding stop words. Now tell your friend to guess which book the words are from by reading them just that list of words. Did you friend correctly guess the book on the first try? What did he or she guess? Explain why you think you friend either was or was not able to guess the book from hearing the list of words. "
   ]
  },
  {
   "cell_type": "code",
   "execution_count": 3,
   "metadata": {},
   "outputs": [
    {
     "name": "stdout",
     "output_type": "stream",
     "text": [
      "['Two', 'households', ',', 'alike', 'dignity', ',', 'fair', 'Verona', ',', 'lay', 'scene', ',', 'ancient', 'grudge', 'break', 'new', 'mutiny', ',', 'civil', 'blood', 'makes', 'civil', 'hands', 'unclean', '.', 'From', 'forth', 'fatal', 'loins', 'two', 'foes', 'pair', 'star-cross', \"'d\", 'lovers', 'take', 'life', ';', 'whole', 'misadventured', 'piteous', 'overthrows', 'death', 'bury', 'parents', \"'\", 'strife', '.']\n"
     ]
    }
   ],
   "source": [
    "#\n",
    "# First two lines to Romeo and Juliet\n",
    "#\n",
    "twoSent = (\"Two households, both alike in dignity, \\\n",
    "in fair Verona, where we lay our scene, \\\n",
    "from ancient grudge break to new mutiny, \\\n",
    "where civil blood makes civil hands unclean. \\\n",
    "From forth the fatal loins of these two foes \\\n",
    "a pair of star-cross'd lovers take their life; \\\n",
    "whole misadventured piteous overthrows \\\n",
    "do with their death bury their parents' strife.\")\n",
    "\n",
    "stopWords = set(stopwords.words('english'))   \n",
    "wordTokens = nltk.word_tokenize(twoSent)   \n",
    "cleanSentence = [w for w in wordTokens if not w in stopWords] \n",
    "    \n",
    "#print(word_tokens) \n",
    "print(cleanSentence)\n"
   ]
  },
  {
   "cell_type": "markdown",
   "metadata": {},
   "source": [
    "### Question 2 response\n",
    "My friend Leanne is a Shakespeare nut so she easily recognized the opening lines to Romeo and Juliet.\n",
    "Removing the stop words did not remove the words that uniquely identify this text, the main idea of the sentences remains intact"
   ]
  },
  {
   "cell_type": "markdown",
   "metadata": {},
   "source": [
    "### Question 3\n",
    "3.\tRun one of the stemmers available in Python. Run the same two sentences from question 2 above through the stemmer and show the results. How many of the outputted stems are valid morphological roots of the corresponding words? Express this answer as a percentage."
   ]
  },
  {
   "cell_type": "code",
   "execution_count": 4,
   "metadata": {},
   "outputs": [
    {
     "name": "stdout",
     "output_type": "stream",
     "text": [
      "                           Stemmer Table\n",
      "----------------------------------------------------------------------------------\n",
      " Tokens        WordNet       Regex         Porter        Snowball      Lancaster    \n",
      "----------------------------------------------------------------------------------\n",
      " Two           Two           Two           two           two           two          \n",
      " households    household     household     household     household     household    \n",
      " ,             ,             ,             ,             ,             ,            \n",
      " both          both          both          both          both          both         \n",
      " alike         alike         alike         alik          alik          alik         \n",
      " in            in            in            in            in            in           \n",
      " dignity       dignity       dignity       digniti       digniti       dign         \n",
      " ,             ,             ,             ,             ,             ,            \n",
      " in            in            in            in            in            in           \n",
      " fair          fair          fair          fair          fair          fair         \n",
      " Verona        Verona        Verona        verona        verona        veron        \n",
      " ,             ,             ,             ,             ,             ,            \n",
      " where         where         where         where         where         wher         \n",
      " we            we            we            we            we            we           \n",
      " lay           lay           lay           lay           lay           lay          \n",
      " our           our           our           our           our           our          \n",
      " scene         scene         scene         scene         scene         scen         \n",
      " ,             ,             ,             ,             ,             ,            \n",
      " from          from          from          from          from          from         \n",
      " ancient       ancient       ancient       ancient       ancient       ant          \n",
      " grudge        grudge        grudge        grudg         grudg         grudg        \n",
      " break         break         break         break         break         break        \n",
      " to            to            to            to            to            to           \n",
      " new           new           new           new           new           new          \n",
      " mutiny        mutiny        mutiny        mutini        mutini        mutiny       \n",
      " ,             ,             ,             ,             ,             ,            \n",
      " where         where         where         where         where         wher         \n",
      " civil         civil         civil         civil         civil         civil        \n",
      " blood         blood         blood         blood         blood         blood        \n",
      " makes         make          make          make          make          mak          \n",
      " civil         civil         civil         civil         civil         civil        \n",
      " hands         hand          hand          hand          hand          hand         \n",
      " unclean       unclean       unclean       unclean       unclean       unc          \n",
      " .             .             .             .             .             .            \n",
      " From          From          From          from          from          from         \n",
      " forth         forth         forth         forth         forth         for          \n",
      " the           the           the           the           the           the          \n",
      " fatal         fatal         fatal         fatal         fatal         fat          \n",
      " loins         loin          loin          loin          loin          loin         \n",
      " of            of            of            of            of            of           \n",
      " these         these         these         these         these         thes         \n",
      " two           two           two           two           two           two          \n",
      " foes          foe           foe           foe           foe           foe          \n",
      " a             a             a             a             a             a            \n",
      " pair          pair          pair          pair          pair          pair         \n",
      " of            of            of            of            of            of           \n",
      " star-cross    star-cross    star-cros     star-cross    star-cross    star-cross   \n",
      " 'd            'd            'd            'd            'd            'd           \n",
      " lovers        lover         lover         lover         lover         lov          \n",
      " take          take          take          take          take          tak          \n",
      " their         their         their         their         their         their        \n",
      " life          life          life          life          life          lif          \n",
      " ;             ;             ;             ;             ;             ;            \n",
      " whole         whole         whole         whole         whole         whol         \n",
      " misadventured misadventured misadventur   misadventur   misadventur   misadv       \n",
      " piteous       piteous       piteou        piteou        piteous       pit          \n",
      " overthrows    overthrow     overthrow     overthrow     overthrow     overthrow    \n",
      " do            do            do            do            do            do           \n",
      " with          with          with          with          with          with         \n",
      " their         their         their         their         their         their        \n",
      " death         death         death         death         death         dea          \n",
      " bury          bury          bury          buri          buri          bury         \n",
      " their         their         their         their         their         their        \n",
      " parents       parent        parent        parent        parent        par          \n",
      " '             '             '             '             '             '            \n",
      " strife        strife        strife        strife        strife        strife       \n",
      " .             .             .             .             .             .            \n"
     ]
    }
   ],
   "source": [
    "ps = nltk.stem.PorterStemmer()\n",
    "sno = nltk.stem.SnowballStemmer('english')\n",
    "rstem = nltk.stem.RegexpStemmer('ing$|s$|ed$', min=4)\n",
    "ls = nltk.stem.LancasterStemmer()\n",
    "ws = nltk.wordnet.WordNetLemmatizer()\n",
    "\n",
    "rsWords = []\n",
    "psWords = []\n",
    "ssWords = []\n",
    "lsWords = []\n",
    "wsWords = []\n",
    "#\n",
    "# Create a list of stemmed words from each stemmer\n",
    "# and include the lemmatizer so we only need 1 For loop\n",
    "#\n",
    "for w in wordTokens:\n",
    "    rsWords.append(rstem.stem(w))\n",
    "    psWords.append(ps.stem(w))\n",
    "    ssWords.append(sno.stem(w))\n",
    "    lsWords.append(ls.stem(w))\n",
    "    wsWords.append(ws.lemmatize(w))\n",
    "#\n",
    "# Visually examine each stemmer to see how many are not morphological roots\n",
    "#\n",
    "print('                           Stemmer Table')\n",
    "print('----------------------------------------------------------------------------------')\n",
    "print(' {:13} {:13} {:13} {:13} {:13} {:13}'.format('Tokens','WordNet','Regex','Porter',\n",
    "      'Snowball','Lancaster'))\n",
    "print('----------------------------------------------------------------------------------')\n",
    "for i in range(len(rsWords)):\n",
    "    print(' {:13} {:13} {:13} {:13} {:13} {:13}'.format(wordTokens[i],wsWords[i],\n",
    "          rsWords[i], psWords[i], ssWords[i], lsWords[i]))"
   ]
  },
  {
   "cell_type": "markdown",
   "metadata": {},
   "source": [
    "### Question 3  answer\n",
    "From the table above we can see WordNet performed the best and Lancaster the poorest.\n",
    "I think my choice of using Shakespeare caused the stemmers some problems with words \n",
    "such as **unclean** and **misadventured**.\n",
    " * Wordnet   - 2 wrong\n",
    " * Regex     - 4 wrong\n",
    " * Porter    - 8 wrong\n",
    " * Snowball  - 7 wrong\n",
    " * Lancaster - 20 wrong\n",
    " \n",
    "The bar chart below gives a visual represneation of how the different stemmers performed."
   ]
  },
  {
   "cell_type": "code",
   "execution_count": 5,
   "metadata": {},
   "outputs": [
    {
     "data": {
      "image/png": "[encoded data removed]",
      "text/plain": [
       "<Figure size 864x576 with 1 Axes>"
      ]
     },
     "metadata": {},
     "output_type": "display_data"
    }
   ],
   "source": [
    "wordWrong = 2\n",
    "regxWrong = 4\n",
    "portWrong = 8\n",
    "snobWrong = 7\n",
    "lancWrong = 20\n",
    "\n",
    "wordPerct = round(1-(wordWrong/len(wsWords)),2)*100\n",
    "regxPerct = round(1-(regxWrong/len(rsWords)),2)*100\n",
    "portPerct = round(1-(portWrong/len(psWords)),2)*100\n",
    "snobPerct = round(1-(snobWrong/len(ssWords)),2)*100\n",
    "lancPerct = round(1-(lancWrong/len(lsWords)),2)*100\n",
    "\n",
    "stemPercList = [wordPerct, regxPerct, snobPerct, portPerct, lancPerct]\n",
    "stemmers = ['WordNet', 'Regex', 'Snowball', 'Porter','Lancaster']\n",
    "colors =['r','b','c','y','g']\n",
    "plt.figure(figsize=(12,8))\n",
    "plt.bar(stemmers, height=stemPercList, color=colors)\n",
    "plt.title('Stemmer Performance',fontsize=18)\n",
    "plt.xlabel('Stemmer Name', fontsize=13)\n",
    "plt.ylabel('Percent', fontsize=13)\n",
    "for i, v in enumerate(stemPercList):\n",
    "    plt.text(i-.1 , v+.5, str(v), color='black')\n",
    "plt.show()"
   ]
  },
  {
   "cell_type": "markdown",
   "metadata": {},
   "source": [
    "# Homework 4\n",
    "### Question 1\n",
    "\n",
    "1.\tRun one of the part-of-speech (POS) taggers available in Python. \n",
    " *\tFind the longest sentence you can, longer than 10 words, that the POS tagger tags correctly. Show the input and output.\n",
    " *\tFind the shortest sentence you can, shorter than 10 words, that the POS tagger fails to tag 100 percent correctly. Show the input and output. Explain your conjecture as to why the tagger might have been less than perfect with this sentence.\n"
   ]
  },
  {
   "cell_type": "code",
   "execution_count": 6,
   "metadata": {},
   "outputs": [
    {
     "name": "stdout",
     "output_type": "stream",
     "text": [
      "Original long sentence:\n",
      "-----------------------\n",
      "I was going to the park today and I found an old friend whom I had not seen in ten years. \n",
      "\n",
      "POS tagged sentence:\n",
      "--------------------\n",
      "[('I', 'PRP'), ('was', 'VBD'), ('going', 'VBG'), ('to', 'TO'), ('the', 'DT'), ('park', 'NN'), ('today', 'NN'), ('and', 'CC'), ('I', 'PRP'), ('found', 'VBD'), ('an', 'DT'), ('old', 'JJ'), ('friend', 'NN'), ('whom', 'WP'), ('I', 'PRP'), ('had', 'VBD'), ('not', 'RB'), ('seen', 'VBN'), ('in', 'IN'), ('ten', 'CD'), ('years', 'NNS'), ('.', '.')] \n",
      "\n",
      "Original short sentence:\n",
      "-----------------------\n",
      "He ran the forty in 8.3 seconds \n",
      "\n",
      "POS tagged sentence:\n",
      "--------------------\n",
      "[('He', 'PRP'), ('ran', 'VBD'), ('the', 'DT'), ('forty', 'CD'), ('in', 'IN'), ('8.3', 'CD'), ('seconds', 'NNS')] \n",
      "\n"
     ]
    }
   ],
   "source": [
    "longSentence = 'I was going to the park today and I found an old friend \\\n",
    "whom I had not seen in ten years.'\n",
    "shortSentence = 'He ran the forty in 8.3 seconds'\n",
    "tokens = nltk.word_tokenize(longSentence)\n",
    "#tagged_sent = nltk.pos_tag(tokens, tagset='universal')\n",
    "taggedLongSent= tag(longSentence)\n",
    "taggedShortSent = tag(shortSentence)\n",
    "print('Original long sentence:')\n",
    "print('-----------------------')\n",
    "print(longSentence,'\\n')\n",
    "print('POS tagged sentence:')\n",
    "print('--------------------')\n",
    "print(taggedLongSent,'\\n')\n",
    "\n",
    "print('Original short sentence:')\n",
    "print('-----------------------')\n",
    "print(shortSentence,'\\n')\n",
    "print('POS tagged sentence:')\n",
    "print('--------------------')\n",
    "print(taggedShortSent,'\\n')\n"
   ]
  },
  {
   "cell_type": "markdown",
   "metadata": {},
   "source": [
    "### Question 1 response\n",
    "We can see that the long sentence is tagged correctly.  This sentence, although long, is grammaticaly simple. The second sentence uses what may be considered a slang term.  In this sense **the forty** is a noun referring to forty yard dash used to measure speed of football players.  But the POS tagger picked it up as a cardinal number. This is most likely because the POS tagger is only looking at words, and not understanding the context they are used in."
   ]
  },
  {
   "cell_type": "markdown",
   "metadata": {},
   "source": [
    "### Question 2 \n",
    "2.\tRun a different POS tagger in Python. Process the same two sentences from question 1.\n",
    " *\tDoes it produce the same or different output?\n",
    " *\tExplain any differences as best you can.\n"
   ]
  },
  {
   "cell_type": "code",
   "execution_count": 7,
   "metadata": {},
   "outputs": [
    {
     "name": "stdout",
     "output_type": "stream",
     "text": [
      "Original long sentence:\n",
      "-----------------------\n",
      "I was going to the park today and I found an old friend whom I had not seen in ten years. \n",
      "\n",
      "POS tagged sentence:\n",
      "--------------------\n",
      "[('I', 'PRON'), ('was', 'VERB'), ('going', 'VERB'), ('to', 'PRT'), ('the', 'DET'), ('park', 'NOUN'), ('today', 'NOUN'), ('and', 'CONJ'), ('I', 'PRON'), ('found', 'VERB'), ('an', 'DET'), ('old', 'ADJ'), ('friend', 'NOUN'), ('whom', 'PRON'), ('I', 'PRON'), ('had', 'VERB'), ('not', 'ADV'), ('seen', 'VERB'), ('in', 'ADP'), ('ten', 'NUM'), ('years', 'NOUN'), ('.', '.')] \n",
      "\n",
      "Original short sentence:\n",
      "-----------------------\n",
      "He ran the forty in 8.3 seconds \n",
      "\n",
      "POS tagged sentence:\n",
      "--------------------\n",
      "[('He', 'PRON'), ('ran', 'VERB'), ('the', 'DET'), ('forty', 'NOUN'), ('in', 'ADP'), ('8.3', 'NUM'), ('seconds', 'NOUN')] \n",
      "\n"
     ]
    }
   ],
   "source": [
    "longTokens = nltk.word_tokenize(longSentence)\n",
    "shortTokens = nltk.word_tokenize(shortSentence)\n",
    "newLongSentTagged = nltk.pos_tag(longTokens, tagset = 'universal')\n",
    "newShortSentTagged = nltk.pos_tag(shortTokens, tagset = 'universal')\n",
    "\n",
    "print('Original long sentence:')\n",
    "print('-----------------------')\n",
    "print(longSentence,'\\n')\n",
    "print('POS tagged sentence:')\n",
    "print('--------------------')\n",
    "print(newLongSentTagged,'\\n')\n",
    "\n",
    "print('Original short sentence:')\n",
    "print('-----------------------')\n",
    "print(shortSentence,'\\n')\n",
    "print('POS tagged sentence:')\n",
    "print('--------------------')\n",
    "print(newShortSentTagged,'\\n')\n"
   ]
  },
  {
   "cell_type": "markdown",
   "metadata": {},
   "source": [
    "### Question 2 response\n",
    "The long sentence is still parsed correctly, but this time the nltk POS parser identified the word **forty** correctly as a noun. This is interesting because in the long sentence the word **ten** was correctnly identified as number. This may be because some of the words surrounding **ten** such as the word **years** give it away."
   ]
  },
  {
   "cell_type": "markdown",
   "metadata": {},
   "source": [
    "### Question 3\n",
    "3.\tIn a news article from this week’s news, find a random sentence of at least 10 words.\n",
    " *\tLooking at the Penn tag set, manually POS tag the sentence yourself.\n",
    " *\tNow run the same sentences through both taggers that you implemented for questions 1 and 2. Did either of the taggers produce the same results as you had created manually?\n",
    " *\tExplain any differences between the two taggers and your manual tagging as much as you can.\n",
    " \n",
    " #### Part 1\n",
    " Sentence from the news<br>\n",
    " \"The measure would block the President from accessing some funds to construct a wall on the southern border.\" <br>\n",
    " Below is my attempt at manually POS tagging this sentence.<br><br>\n",
    " The(DT) measure(NN) would(MD) block(VB) the(DT) President(NNP) from(IN) accessing(VBG) some(JJ) funds(NNS) to (TO) <br>\n",
    " construct(VB) a(DT) wall(NN) on(IN) the(DT) southern(JJ) border(NN).\n"
   ]
  },
  {
   "cell_type": "code",
   "execution_count": 8,
   "metadata": {},
   "outputs": [
    {
     "name": "stdout",
     "output_type": "stream",
     "text": [
      "Original news sentence:\n",
      "-----------------------\n",
      "The measure would block the President from accessing some funds to construct a wall on the southern border. \n",
      "\n",
      "nltk POS tagged sentence:\n",
      "-------------------------\n",
      "[('The', 'DET'), ('measure', 'NOUN'), ('would', 'VERB'), ('block', 'VERB'), ('the', 'DET'), ('President', 'NOUN'), ('from', 'ADP'), ('accessing', 'VERB'), ('some', 'DET'), ('funds', 'NOUN'), ('to', 'PRT'), ('construct', 'VERB'), ('a', 'DET'), ('wall', 'NOUN'), ('on', 'ADP'), ('the', 'DET'), ('southern', 'ADJ'), ('border', 'NOUN'), ('.', '.')] \n",
      "\n",
      "Penn POS tagged sentence:\n",
      "-------------------------\n",
      "[('The', 'DT'), ('measure', 'NN'), ('would', 'MD'), ('block', 'VB'), ('the', 'DT'), ('President', 'NNP'), ('from', 'IN'), ('accessing', 'VBG'), ('some', 'DT'), ('funds', 'NNS'), ('to', 'TO'), ('construct', 'VB'), ('a', 'DT'), ('wall', 'NN'), ('on', 'IN'), ('the', 'DT'), ('southern', 'JJ'), ('border', 'NN'), ('.', '.')]\n"
     ]
    }
   ],
   "source": [
    "newsSentence = \"The measure would block the President from accessing some \\\n",
    "funds to construct a wall on the southern border.\"\n",
    "newsTokens = nltk.word_tokenize(newsSentence)\n",
    "newsTaggedNLTK = nltk.pos_tag(newsTokens, tagset = 'universal')\n",
    "newsTagged =  tag(newsSentence)\n",
    "print('Original news sentence:')\n",
    "print('-----------------------')\n",
    "print(newsSentence,'\\n')\n",
    "print('nltk POS tagged sentence:')\n",
    "print('-------------------------')\n",
    "print(newsTaggedNLTK,'\\n')\n",
    "print('Penn POS tagged sentence:')\n",
    "print('-------------------------')\n",
    "print(newsTagged)"
   ]
  },
  {
   "cell_type": "markdown",
   "metadata": {},
   "source": [
    "#### Part 2 & 3\n",
    "The *NLTK* tagger uses a simpler form of tagging and doesn't seem to have as many categories as the *pattern* POS parser. For example the words **measure** and **President** are both identifed as *NOUN* by the  *NLTK* tagger, but the the *pattern* tagger differentiates between a singular noun and a proper noun.  My manual tagging did a good job compared to the *patter* tagger because I used the *Penn Treebank* parts of speech tags to find the more descriptive tags."
   ]
  },
  {
   "cell_type": "code",
   "execution_count": null,
   "metadata": {},
   "outputs": [],
   "source": []
  }
 ],
 "metadata": {
  "kernelspec": {
   "display_name": "Python 3",
   "language": "python",
   "name": "python3"
  },
  "language_info": {
   "codemirror_mode": {
    "name": "ipython",
    "version": 3
   },
   "file_extension": ".py",
   "mimetype": "text/x-python",
   "name": "python",
   "nbconvert_exporter": "python",
   "pygments_lexer": "ipython3",
   "version": "3.6.6"
  }
 },
 "nbformat": 4,
 "nbformat_minor": 2
}
