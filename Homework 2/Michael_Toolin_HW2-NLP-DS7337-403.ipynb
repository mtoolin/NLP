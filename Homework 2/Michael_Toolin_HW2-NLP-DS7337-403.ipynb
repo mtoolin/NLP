{
 "cells": [
  {
   "cell_type": "markdown",
   "metadata": {},
   "source": [
    "## Michael Toolin - Homework 2\n",
    "## NLP DS7337-403"
   ]
  },
  {
   "cell_type": "code",
   "execution_count": 1,
   "metadata": {},
   "outputs": [
    {
     "name": "stdout",
     "output_type": "stream",
     "text": [
      "Windows-10-10.0.17134-SP0\n",
      "Python 3.6.6 |Anaconda custom (64-bit)| (default, Jun 28 2018, 11:27:44) [MSC v.1900 64 bit (AMD64)]\n",
      "NLTK 3.4\n"
     ]
    },
    {
     "name": "stderr",
     "output_type": "stream",
     "text": [
      "[nltk_data] Downloading package punkt to\n",
      "[nltk_data]     C:\\Users\\mtool\\AppData\\Roaming\\nltk_data...\n",
      "[nltk_data]   Package punkt is already up-to-date!\n",
      "[nltk_data] Downloading package stopwords to\n",
      "[nltk_data]     C:\\Users\\mtool\\AppData\\Roaming\\nltk_data...\n",
      "[nltk_data]   Package stopwords is already up-to-date!\n"
     ]
    },
    {
     "name": "stdout",
     "output_type": "stream",
     "text": [
      "re 2.2.1\n",
      "Numpy 1.15.4\n",
      "Scikit-Learn 0.19.1\n",
      "C:\\users\\mtool\\Anaconda3\n"
     ]
    }
   ],
   "source": [
    "import platform; print(platform.platform())\n",
    "import sys; print (\"Python\", sys.version)\n",
    "import nltk; print(\"NLTK\", nltk.__version__)\n",
    "nltk.download('punkt')\n",
    "nltk.download('stopwords')\n",
    "from nltk.corpus import PlaintextCorpusReader\n",
    "from nltk import word_tokenize\n",
    "import urllib;#print(\"urllib\", urllib.__version__)\n",
    "from urllib import request\n",
    "import re; print(\"re\", re.__version__)\n",
    "import numpy as np; print(\"Numpy\",np.__version__)\n",
    "import matplotlib.pyplot as plt#; print(\"Matplotlib\",plt.__version__)\n",
    "import seaborn as sns\n",
    "import sklearn; print(\"Scikit-Learn\", sklearn.__version__)\n",
    "import os\n",
    "print (os.environ['CONDA_PREFIX'])"
   ]
  },
  {
   "cell_type": "code",
   "execution_count": 2,
   "metadata": {},
   "outputs": [],
   "source": [
    "###########################################################\n",
    "#                                                         #\n",
    "#  downLoadBook                                           #\n",
    "#                                                         #\n",
    "# This procedure takes a url  as input                    #\n",
    "# and downloads the text from the URL and saves the       #\n",
    "# text locally in ./data directory                        #\n",
    "#                                                         #\n",
    "# Input:                                                  #\n",
    "#   url - url of text to download                         #\n",
    "#                                                         #\n",
    "# Output:                                                 #\n",
    "#   savedFilename.txt - locally stored text file          #\n",
    "#                                                         #\n",
    "###########################################################\n",
    "\n",
    "def downLoadBook (url):\n",
    "    response = request.urlopen(url)\n",
    "    localFile = response.read().decode('utf8')\n",
    "    if debug: \n",
    "        print ('Book read in...',len(localFile))\n",
    "    return localFile\n"
   ]
  },
  {
   "cell_type": "code",
   "execution_count": 3,
   "metadata": {},
   "outputs": [],
   "source": [
    "###########################################################\n",
    "#                                                         #\n",
    "#  prepNLTK                                               #\n",
    "#                                                         #\n",
    "# This function takes in a raw text file and cleans it    #\n",
    "# by removing any header and trailer text                 #\n",
    "# The header and trailer identifying strings are passed   #\n",
    "# in as paramerters                                       #\n",
    "#                                                         #\n",
    "# Input:                                                  #\n",
    "#   string - raw text to clean                            #\n",
    "#   topSep - text defining end of header text             #\n",
    "#   botSep - text defining beginning of trailer text      #\n",
    "#                                                         #\n",
    "# Output:                                                 #\n",
    "#   text - text in NLTK format for processing             #\n",
    "#                                                         #\n",
    "###########################################################\n",
    "\n",
    "def prepNLTK(string, topSep, botSep):\n",
    "    newRaw = string.split(topSep,2)[-1]\n",
    "    newerRaw = newRaw.split(botSep,1)[0]\n",
    "    newerRaw1 = newerRaw.strip('\\n')\n",
    "    clean = newerRaw1.strip('\\r')\n",
    "    tokens = word_tokenize(clean)\n",
    "    text = nltk.Text(tokens)\n",
    "    \n",
    "# For debugging\n",
    "    if debug:\n",
    "        print ('------------------------')\n",
    "        print('Raw string ',len(string),type(string))\n",
    "        print ('Header removed ',len(newRaw),type(newRaw))\n",
    "        print ('Trailer removed ',len(newerRaw),type(newerRaw))\n",
    "        print ('Removed n ',len(newerRaw1),type(newerRaw1))\n",
    "        print ('Removed r ',len(clean),type(clean))\n",
    "        print ('Tokens ', len(tokens), type(tokens))\n",
    "        print (tokens[:10])\n",
    "        print (type(text))\n",
    "        print (text[100:110])\n",
    "        print (text.collocations())\n",
    "        print (newerRaw[-63:-1])\n",
    "    \n",
    "    return text"
   ]
  },
  {
   "cell_type": "code",
   "execution_count": 4,
   "metadata": {},
   "outputs": [],
   "source": [
    "def createCorpusList(bookList):\n",
    "    \n",
    "# read each url and calculate stats, save in textStats list\n",
    "# Read in the three text files\n",
    "#    Book 1 - McGuffey's Third Eclectic Reader - pg14766.txt\n",
    "#    Book 2 - McGuffey's Fourth Eclectic Reader - pg14880.txt\n",
    "#    Book 3 - McGuffey's Fifth Eclectic Reader - pg15040.txt\n",
    "\n",
    "    bookList.append({'title': \"McGuffeys Third Eclectic Reader\",\n",
    "                     'url': 'http://www.gutenberg.org/cache/epub/14766/pg14766.txt',\n",
    "                     'topSep': 'LESSON I.',\n",
    "                     'botSep': 'End of the Project Gutenberg EBook ',\n",
    "                     'totalWords': 0,\n",
    "                     'lexDiv': 0,\n",
    "                     'vocSize' : 0,\n",
    "                     'normalizedLongLexScore': 0,\n",
    "                     'numLongWords': '',\n",
    "                     'longWordLex': 0})\n",
    "             \n",
    "    bookList.append({'title': \"McGuffeys Fourth Eclectic Reader\",\n",
    "                     'url': \"http://www.gutenberg.org/cache/epub/14880/pg14880.txt\",\n",
    "                     'topSep': 'S FOURTH READER.',\n",
    "                     'botSep': 'End of the Project Gutenberg EBook ',\n",
    "                     'totalWords': 0,\n",
    "                     'lexDiv': 0,\n",
    "                     'vocSize' : 0,\n",
    "                     'normalizedLongLexScore': 0,\n",
    "                     'numLongWords': '',\n",
    "                     'longWordLex': 0})\n",
    "    \n",
    "    bookList.append({'title': \"McGuffeys Fifth Eclectic Reader\",\n",
    "                     'url': \"http://www.gutenberg.org/cache/epub/15040/pg15040.txt\",\n",
    "                     'topSep': 'EXERCISES.',\n",
    "                     'botSep': '*** END OF THIS PROJECT GUTENBERG EBOOK ',\n",
    "                     'totalWords': 0,\n",
    "                     'lexDiv': 0,\n",
    "                     'vocSize' : 0,\n",
    "                     'normalizedLongLexScore': 0,\n",
    "                     'numLongWords': '',\n",
    "                     'longWordLex': 0})\n",
    "    return bookList"
   ]
  },
  {
   "cell_type": "code",
   "execution_count": 5,
   "metadata": {},
   "outputs": [],
   "source": [
    "def normalize(myScore):\n",
    "    maxValue = max(myScore)\n",
    "    return [(score/maxValue) for score in myScore]"
   ]
  },
  {
   "cell_type": "code",
   "execution_count": 6,
   "metadata": {},
   "outputs": [],
   "source": [
    "###########################################\n",
    "#                                         #\n",
    "# Various text/word scoring routines      #\n",
    "#                                         #\n",
    "###########################################\n",
    "\n",
    "#\n",
    "# Returns the Lexical Diverstiy\n",
    "#\n",
    "def lexicalDiversity (text):\n",
    "    return len(set(text)) / len(text)\n",
    "\n",
    "def percentage (count, total):\n",
    "    return (count/total) * 100\n",
    "#\n",
    "# Returns the Vocabulary Size\n",
    "#\n",
    "def vocabularySize (text):\n",
    "    return len(set(text))\n",
    "#\n",
    "# Return text difficulty\n",
    "#\n",
    "def textDifficultyScore (lexDiv, normVocab, longVocab):\n",
    "    return((1/3)*lexDiv + (1/3)*normVocab) + (1/3)*longVocab\n",
    "\n",
    "###################################################################\n",
    "#                                                                 #\n",
    "# longWordsStats                                                  #\n",
    "# Returns the dictionary filled in with Long Words Stats          #\n",
    "#   Input:                                                        #\n",
    "#      text    - the text to analyze                              #\n",
    "#      id      - the dictionary to fill in                        #\n",
    "#      wordLen - The number of letters that defines a long word   #\n",
    "#                                                                 #\n",
    "#   Output: id dictionary values filled in                        #\n",
    "#      numLongWords  - number of unique long words                #\n",
    "#      freqLongWords - long words appearing more than wordFreq    #\n",
    "#                      times                                      #\n",
    "#      numFreqLngWds - number of frequent long words              #\n",
    "#      lordWordLex   - lexical score of the set of long words     #\n",
    "#                                                                 #\n",
    "###################################################################\n",
    "\n",
    "def longWordsStats (text, ids ,wordLen):\n",
    "    \n",
    "    vocab = set(text)\n",
    "    longWordsList = [w for w in vocab if len(w) > wordLen]\n",
    "    longWordsCount = len(longWordsList)\n",
    "    longWordLex = (len(set(longWordsList)))/ (len(text))\n",
    "    ids['longWordLex'] = longWordLex\n",
    "    ids['numLongWords'] = len(longWordsList)\n",
    "    if debug:\n",
    "        print('Number of Long words = ', longWordsCount)\n",
    "        print('Long Word Lex', ids['longWordLex'])\n",
    "    return (ids)"
   ]
  },
  {
   "cell_type": "code",
   "execution_count": 7,
   "metadata": {},
   "outputs": [],
   "source": [
    "def graphScores():\n",
    "    fig =plt.figure(figsize = (14,16))\n",
    "    #plt.title('Scoring 104 Guttenburg Texts', fontsize=17,)\n",
    "    #ax = fig.add_subplot(2,2,1)\n",
    "    #plt.hist(longLexScoreList,bins=104, facecolor='green', alpha=0.75)\n",
    "    #ax.set_ylabel('Frequency', fontsize = 15)\n",
    "    #ax.set_xlabel('Long Word Lexical Score',fontsize=15)\n",
    "    #plt.axvline(x=np.mean(longLexScoreList), color='red', alpha=0.75, linewidth = 2)\n",
    "\n",
    "    ax = fig.add_subplot(4,1,1)\n",
    "    plt.hist(lexScoreList,bins=104, facecolor='green', alpha=0.75)\n",
    "    ax.set_ylabel('Frequency', fontsize = 15)\n",
    "    ax.set_xlabel('All Word Lexical Score',fontsize=15)\n",
    "    plt.axvline(x=np.mean(lexScoreList), color='red', alpha=0.75, linewidth = 2)\n",
    "\n",
    "    ax = fig.add_subplot(4,1,2)\n",
    "    plt.hist(totalLongWrdList,bins=104, facecolor='green', alpha=0.75)\n",
    "    ax.set_ylabel('Frequency', fontsize = 15)\n",
    "    ax.set_xlabel('Normalized Number of Long Words',fontsize=15)\n",
    "    plt.axvline(x=np.mean(totalLongWrdList), color='red', alpha=0.75, linewidth = 2)\n",
    "\n",
    "    ax = fig.add_subplot(4,1,3)\n",
    "    plt.hist(vocabScoreList,bins=104, facecolor='green', alpha=0.75)\n",
    "    ax.set_ylabel('Frequency', fontsize = 15)\n",
    "    ax.set_xlabel('Normalized Vocabulary Score',fontsize=15)\n",
    "    plt.axvline(x=np.mean(vocabScoreList), color='red', alpha=0.75, linewidth = 2)\n",
    "    \n",
    "    ax = fig.add_subplot(4,1,4)\n",
    "    plt.hist(textDiff, bins = 104, facecolor='green', alpha=0.75)\n",
    "    ax.set_ylabel('Frequency', fontsize = 15)\n",
    "    ax.set_xlabel('Text Difficulty Score',fontsize=15)\n",
    "    plt.axvline(x=np.mean(textDiff), color='red', alpha=0.75, linewidth = 2)\n",
    "\n",
    "    plt.show()\n",
    "\n",
    "    plt.boxplot(textDiff,vert=False)\n",
    "    plt.title('Text Difficulty Score')\n",
    "    plt.show()\n",
    "#\n",
    "# Draw scatter plot    \n",
    "#\n",
    "    fig =plt.figure(figsize = (14,12))\n",
    "    ax = fig.add_subplot(2,1,1)\n",
    "    plt.scatter(vocabScoreList, lexScoreList)\n",
    "    ax.set_ylabel('Lexical Score', fontsize = 15)\n",
    "    ax.set_xlabel('Normalized Vocabulary Score',fontsize=15)\n",
    "\n",
    "    plt.show()\n",
    "    plt.close()\n",
    "    \n",
    "    return"
   ]
  },
  {
   "cell_type": "code",
   "execution_count": 8,
   "metadata": {},
   "outputs": [
    {
     "name": "stdout",
     "output_type": "stream",
     "text": [
      "URL http://www.gutenberg.org/cache/epub/14766/pg14766.txt\n",
      "URL http://www.gutenberg.org/cache/epub/14880/pg14880.txt\n",
      "URL http://www.gutenberg.org/cache/epub/15040/pg15040.txt\n"
     ]
    }
   ],
   "source": [
    "#\n",
    "# Main routine \n",
    "#\n",
    "debug = 0\n",
    "bookList = []\n",
    "textDiff = []\n",
    "longLexScoreList =[]\n",
    "lexScoreList = []\n",
    "vocabScoreList = []\n",
    "totalWordList = []\n",
    "totalLongWrdList = []\n",
    "\n",
    "createCorpusList (bookList)\n",
    "for ids in bookList: \n",
    "    if True:\n",
    "        print ('URL', ids['url'])    \n",
    "    raw = downLoadBook(ids['url'])\n",
    "    text = prepNLTK(raw, str(ids['topSep']), ids['botSep'])\n",
    "    words = [w.lower() for w in text]\n",
    "    ids['lexDiv'] = lexicalDiversity(words)\n",
    "    ids['vocSize'] = vocabularySize(words)\n",
    "    ids = longWordsStats(text, ids, 15)\n",
    "    longLexScoreList.append(ids['longWordLex'])\n",
    "    lexScoreList.append(ids['lexDiv'])\n",
    "    vocabScoreList.append(ids['vocSize'])\n",
    "    totalWordList.append(ids['totalWords'])\n",
    "    totalLongWrdList.append(ids['numLongWords'])\n",
    "    \n",
    "vocabScoreList = normalize(vocabScoreList)\n",
    "totalLongWrdList = normalize(totalLongWrdList)\n"
   ]
  },
  {
   "cell_type": "code",
   "execution_count": 9,
   "metadata": {},
   "outputs": [
    {
     "data": {
      "image/png": "[encoded data removed]",
      "text/plain": [
       "<Figure size 1008x1152 with 4 Axes>"
      ]
     },
     "metadata": {},
     "output_type": "display_data"
    },
    {
     "data": {
      "image/png": "[encoded data removed]",
      "text/plain": [
       "<Figure size 432x288 with 1 Axes>"
      ]
     },
     "metadata": {},
     "output_type": "display_data"
    },
    {
     "data": {
      "image/png": "[encoded data removed]",
      "text/plain": [
       "<Figure size 1008x864 with 1 Axes>"
      ]
     },
     "metadata": {},
     "output_type": "display_data"
    },
    {
     "name": "stdout",
     "output_type": "stream",
     "text": [
      "The book  McGuffeys Third Eclectic Reader had the following scores:\n",
      "   Normalized Vocab Score:  0.2941889668312116\n",
      "   Normalized Long Word Score:  0.03571428571428571\n",
      "   Lexical Diversity Score:  0.10433367118154735\n",
      "   Text Difficulty Score:  0.14474564124234823\n",
      "The book  McGuffeys Fourth Eclectic Reader had the following scores:\n",
      "   Normalized Vocab Score:  0.6405992898588377\n",
      "   Normalized Long Word Score:  0.35714285714285715\n",
      "   Lexical Diversity Score:  0.09975455820476858\n",
      "   Text Difficulty Score:  0.3658322350688211\n",
      "The book  McGuffeys Fifth Eclectic Reader had the following scores:\n",
      "   Normalized Vocab Score:  1.0\n",
      "   Normalized Long Word Score:  1.0\n",
      "   Lexical Diversity Score:  0.10136772245241941\n",
      "   Text Difficulty Score:  0.7004559074841398\n"
     ]
    }
   ],
   "source": [
    "#\n",
    "# Fill in normalized score into dictionary and \n",
    "# calculate text difficulty score\n",
    "#\n",
    "%matplotlib inline\n",
    "\n",
    "for ids, vocabScore in zip(bookList, vocabScoreList):\n",
    "    ids['normalizedVocabScore'] = vocabScore\n",
    "    \n",
    "for ids, lngWrdScore in zip(bookList, totalLongWrdList):\n",
    "    ids['normalizedLongWordScore'] = lngWrdScore\n",
    "    \n",
    "for d in bookList:\n",
    "    d['textDifficulty'] = textDifficultyScore(d['lexDiv'],d['normalizedVocabScore'], d['normalizedLongWordScore'])\n",
    "        \n",
    "    textDiff.append(d['textDifficulty'])\n",
    "    \n",
    "graphScores()\n",
    "\n",
    "for d in bookList:\n",
    "    print('The book ',d['title'],'had the following scores:')\n",
    "    print ('   Normalized Vocab Score: ', d['normalizedVocabScore'])\n",
    "    print ('   Normalized Long Word Score: ', d['normalizedLongWordScore'])\n",
    "    print ('   Lexical Diversity Score: ', d['lexDiv'])\n",
    "    print ('   Text Difficulty Score: ', d['textDifficulty'])\n",
    "\n"
   ]
  },
  {
   "cell_type": "markdown",
   "metadata": {},
   "source": [
    "## Discussion of findings\n",
    "I re-examined the books used in the first HW, each one part of McGuffey's Ecletic Reader series. The beginning and ending seperator marks were modified from the first homework to better clean the data. This change in cleaning technique provided clearer results when comparing the third, fourth and fifth grade texts. \n",
    "\n",
    "We introduced a new measure into these analysis, a measure of how many _long words_ are present in the text. A long word is identified by examing all the vocabulary and finding words with more than 15 characters. The unique number of long words is counted and used a measure of text difficulty. As described below, normalizing this score provides a way to more accurrately compare texts of different lenghts.\n",
    "\n",
    "We also provided a normalization routine to be able to more accurately compare texts of different lengths. A standard normalization algorithm was applied to vocabulary score and long word score. The maximum score of all the texts is assigned a value of 1, and the other scores are normalized by using the equation (score/_max_ score). As expected the scores increased as the grades went up, with third grade having the lowest vocabulary score and fifth grade being the highest. Third and fourth grade had the same long word score indicating the same ratio of __unique__ long words to the total size of the vocabulary in the text. The historgrams above show these scores with the red line indicating the average for each score.\n",
    "\n",
    "A text difficulty score was applied to each text by equally weighting the _normalized vocabulary score_, _normalized long word score_, and _lexical diversity score_ and summing these together. This score increased as grade increased.  This turns out to be a very good indicator of grade level.  The equal weighting of all three scores with the normalizaiton of vocabulary and long words combined to show a good measure of text grade level.\n"
   ]
  },
  {
   "cell_type": "code",
   "execution_count": null,
   "metadata": {},
   "outputs": [],
   "source": []
  }
 ],
 "metadata": {
  "kernelspec": {
   "display_name": "Python 3",
   "language": "python",
   "name": "python3"
  },
  "language_info": {
   "codemirror_mode": {
    "name": "ipython",
    "version": 3
   },
   "file_extension": ".py",
   "mimetype": "text/x-python",
   "name": "python",
   "nbconvert_exporter": "python",
   "pygments_lexer": "ipython3",
   "version": "3.6.6"
  }
 },
 "nbformat": 4,
 "nbformat_minor": 2
}
