{
 "cells": [
  {
   "cell_type": "markdown",
   "metadata": {},
   "source": [
    "## Michael Toolin - Homework 2\n",
    "## NLP DS7337-403"
   ]
  },
  {
   "cell_type": "code",
   "execution_count": 68,
   "metadata": {},
   "outputs": [
    {
     "name": "stdout",
     "output_type": "stream",
     "text": [
      "Windows-10-10.0.17134-SP0\n",
      "Python 3.6.6 |Anaconda custom (64-bit)| (default, Jun 28 2018, 11:27:44) [MSC v.1900 64 bit (AMD64)]\n",
      "NLTK 3.4\n",
      "re 2.2.1\n",
      "Numpy 1.15.0\n",
      "Scikit-Learn 0.19.1\n",
      "base\n"
     ]
    },
    {
     "name": "stderr",
     "output_type": "stream",
     "text": [
      "[nltk_data] Downloading package punkt to\n",
      "[nltk_data]     C:\\Users\\mtool\\AppData\\Roaming\\nltk_data...\n",
      "[nltk_data]   Package punkt is already up-to-date!\n",
      "[nltk_data] Downloading package stopwords to\n",
      "[nltk_data]     C:\\Users\\mtool\\AppData\\Roaming\\nltk_data...\n",
      "[nltk_data]   Package stopwords is already up-to-date!\n"
     ]
    }
   ],
   "source": [
    "import platform; print(platform.platform())\n",
    "import sys; print (\"Python\", sys.version)\n",
    "import nltk; print(\"NLTK\", nltk.__version__)\n",
    "nltk.download('punkt')\n",
    "nltk.download('stopwords')\n",
    "from nltk.corpus import PlaintextCorpusReader\n",
    "from nltk import word_tokenize\n",
    "import urllib;#print(\"urllib\", urllib.__version__)\n",
    "from urllib import request\n",
    "import re; print(\"re\", re.__version__)\n",
    "import numpy as np; print(\"Numpy\",np.__version__)\n",
    "import matplotlib.pyplot as plt#; print(\"Matplotlib\",plt.__version__)\n",
    "import sklearn; print(\"Scikit-Learn\", sklearn.__version__)\n",
    "import os\n",
    "print (os.environ['CONDA_DEFAULT_ENV'])"
   ]
  },
  {
   "cell_type": "code",
   "execution_count": 10,
   "metadata": {},
   "outputs": [],
   "source": [
    "###########################################################\n",
    "#                                                         #\n",
    "#  downLoadBook                                           #\n",
    "#                                                         #\n",
    "# This procedure takes a url  as input                    #\n",
    "# and downloads the text from the URL and saves the       #\n",
    "# text locally in ./data directory                        #\n",
    "#                                                         #\n",
    "# Input:                                                  #\n",
    "#   url - url of text to download                         #\n",
    "#                                                         #\n",
    "# Output:                                                 #\n",
    "#   savedFilename.txt - locally stored text file          #\n",
    "#                                                         #\n",
    "###########################################################\n",
    "\n",
    "def downLoadBook (url):\n",
    "    response = request.urlopen(url)\n",
    "    localFile = response.read().decode('utf8')\n",
    "    if debug: \n",
    "        print ('Book read in...',len(localFile))\n",
    "    return localFile\n"
   ]
  },
  {
   "cell_type": "code",
   "execution_count": 11,
   "metadata": {},
   "outputs": [],
   "source": [
    "###########################################################\n",
    "#                                                         #\n",
    "#  prepNLTK                                               #\n",
    "#                                                         #\n",
    "# This function takes in a raw text file and cleans it    #\n",
    "# by removing any header and trailer text                 #\n",
    "# The header and trailer identifying strings are passed   #\n",
    "# in as paramerters                                       #\n",
    "#                                                         #\n",
    "# Input:                                                  #\n",
    "#   string - raw text to clean                            #\n",
    "#   topSep - text defining end of header text             #\n",
    "#   botSep - text defining beginning of trailer text      #\n",
    "#                                                         #\n",
    "# Output:                                                 #\n",
    "#   text - text in NLTK format for processing             #\n",
    "#                                                         #\n",
    "###########################################################\n",
    "\n",
    "def prepNLTK(string, topSep, botSep):\n",
    "    newRaw = string.split(topSep,2)[-1]\n",
    "    newerRaw = newRaw.split(botSep,1)[0]\n",
    "    newerRaw1 = newerRaw.strip('\\n')\n",
    "    clean = newerRaw1.strip('\\r')\n",
    "    tokens = word_tokenize(clean)\n",
    "    text = nltk.Text(tokens)\n",
    "    \n",
    "# For debugging\n",
    "    if debug:\n",
    "        print ('------------------------')\n",
    "        print('Raw string ',len(string),type(string))\n",
    "        print ('Header removed ',len(newRaw),type(newRaw))\n",
    "        print ('Trailer removed ',len(newerRaw),type(newerRaw))\n",
    "        print ('Removed n ',len(newerRaw1),type(newerRaw1))\n",
    "        print ('Removed r ',len(clean),type(clean))\n",
    "        print ('Tokens ', len(tokens), type(tokens))\n",
    "        print (tokens[:10])\n",
    "        print (type(text))\n",
    "        print (text[100:110])\n",
    "        print (text.collocations())\n",
    "        print (newerRaw[-63:-1])\n",
    "    \n",
    "    return text"
   ]
  },
  {
   "cell_type": "code",
   "execution_count": 57,
   "metadata": {},
   "outputs": [],
   "source": [
    "def createCorpusList(bookList):\n",
    "    \n",
    "# read each url and calculate stats, save in textStats list\n",
    "# Read in the three text files\n",
    "#    Book 1 - McGuffey's Third Eclectic Reader - pg14766.txt\n",
    "#    Book 2 - McGuffey's Fourth Eclectic Reader - pg14880.txt\n",
    "#    Book 3 - McGuffey's Fifth Eclectic Reader - pg15040.txt\n",
    "\n",
    "    bookList.append({'title': \"McGuffeys Third Eclectic Reader\",\n",
    "                     'url': 'http://www.gutenberg.org/cache/epub/14766/pg14766.txt',\n",
    "                     'topSep': 'LESSON',\n",
    "                     'botSep': 'End of the Project Gutenberg EBook ',\n",
    "                     'totalWords': 0,\n",
    "                     'lexDiv': 0,\n",
    "                     'vocSize' : 0,\n",
    "                     'normalizedLongLexScore': 0,\n",
    "                     'numLongWords': '',\n",
    "                     'longWordLex': 0})\n",
    "             \n",
    "    bookList.append({'title': \"McGuffeys Fourth Eclectic Reader\",\n",
    "                     'url': \"http://www.gutenberg.org/cache/epub/14880/pg14880.txt\",\n",
    "                     'topSep': 'INTRODUCTORY MATTER',\n",
    "                     'botSep': 'End of the Project Gutenberg EBook ',\n",
    "                     'totalWords': 0,\n",
    "                     'lexDiv': 0,\n",
    "                     'vocSize' : 0,\n",
    "                     'normalizedLongLexScore': 0,\n",
    "                     'numLongWords': '',\n",
    "                     'longWordLex': 0})\n",
    "    \n",
    "    bookList.append({'title': \"McGuffeys Fifth Eclectic Reader\",\n",
    "                     'url': \"http://www.gutenberg.org/cache/epub/15040/pg15040.txt\",\n",
    "                     'topSep': 'CONTENTS',\n",
    "                     'botSep': '*** END OF THIS PROJECT GUTENBERG EBOOK ',\n",
    "                     'totalWords': 0,\n",
    "                     'lexDiv': 0,\n",
    "                     'vocSize' : 0,\n",
    "                     'normalizedLongLexScore': 0,\n",
    "                     'numLongWords': '',\n",
    "                     'longWordLex': 0})\n",
    "    return bookList"
   ]
  },
  {
   "cell_type": "code",
   "execution_count": 58,
   "metadata": {},
   "outputs": [],
   "source": [
    "def normalize(myScore):\n",
    "    maxValue = max(myScore)\n",
    "\n",
    "    return [(score/maxValue) for score in myScore]"
   ]
  },
  {
   "cell_type": "code",
   "execution_count": 59,
   "metadata": {},
   "outputs": [],
   "source": [
    "###########################################\n",
    "#                                         #\n",
    "# Various text/word scoring routines      #\n",
    "#                                         #\n",
    "###########################################\n",
    "\n",
    "#\n",
    "# Returns the Lexical Diverstiy\n",
    "#\n",
    "def lexicalDiversity (text):\n",
    "    return len(set(text)) / len(text)\n",
    "\n",
    "def percentage (count, total):\n",
    "    return (count/total) * 100\n",
    "#\n",
    "# Returns the Vocabulary Size\n",
    "#\n",
    "def vocabularySize (text):\n",
    "    return len(set(text))\n",
    "\n",
    "###################################################################\n",
    "#                                                                 #\n",
    "# longWordsStats                                                  #\n",
    "# Returns the dictionary filled in with Long Words Stats          #\n",
    "#   Input:                                                        #\n",
    "#      text    - the text to analyze                              #\n",
    "#      id      - the dictionary to fill in                        #\n",
    "#      wordLen - The number of letters that defines a long word   #\n",
    "#                                                                 #\n",
    "#   Output: id dictionary values filled in                        #\n",
    "#      numLongWords  - number of unique long words                #\n",
    "#      freqLongWords - long words appearing more than wordFreq    #\n",
    "#                      times                                      #\n",
    "#      numFreqLngWds - number of frequent long words              #\n",
    "#      lordWordLex   - lexical score of the set of long words     #\n",
    "#                                                                 #\n",
    "###################################################################\n",
    "\n",
    "def longWordsStats (text, ids ,wordLen):\n",
    "    \n",
    "    vocab = set(text)\n",
    "    longWordsList = [w for w in vocab if len(w) > wordLen]\n",
    "    longWordsCount = len(longWordsList)\n",
    "    longWordLex = (len(set(longWordsList)))/ (len(text))\n",
    "    ids['longWordLex'] = longWordLex\n",
    "    ids['numLongWords'] = len(longWordsList)\n",
    "    if True:\n",
    "        print('Number of Long words = ', longWordsCount)\n",
    "        print('Long Word Lex', ids['longWordLex'])\n",
    "    return (ids)\n",
    "    \n",
    "\n",
    "\n",
    "\n"
   ]
  },
  {
   "cell_type": "code",
   "execution_count": 63,
   "metadata": {},
   "outputs": [
    {
     "name": "stdout",
     "output_type": "stream",
     "text": [
      "Number of Long words =  62\n",
      "Long Word Lex 0.0018322595898102724\n",
      "Number of Long words =  570\n",
      "Long Word Lex 0.00710811821922933\n",
      "Number of Long words =  1080\n",
      "Long Word Lex 0.008806980347386447\n"
     ]
    }
   ],
   "source": [
    "debug = 0\n",
    "bookList = []\n",
    "textStats = []\n",
    "longLexScoreList =[]\n",
    "lexScoreList = []\n",
    "vocabScoreList = []\n",
    "totalWordList = []\n",
    "totalLongWrdList = []\n",
    "\n",
    "createCorpusList (bookList)\n",
    "for ids in bookList: \n",
    "    raw = downLoadBook(ids['url'])\n",
    "    text = prepNLTK(raw, str(ids['topSep']), ids['botSep'])\n",
    "    ids['lexDiv'] = lexicalDiversity(text)\n",
    "    ids['vocSize'] = vocabularySize(text)\n",
    "    ids['totalWords'] = len(raw)\n",
    "    ids = longWordsStats(text, ids, 10)\n",
    "    longLexScoreList.append(ids['longWordLex'])\n",
    "    lexScoreList.append(ids['lexDiv'])\n",
    "    vocabScoreList.append(ids['vocSize'])\n",
    "    totalWordList.append(ids['totalWords'])\n",
    "    totalLongWrdList.append(ids['numLongWords'])\n",
    "    \n",
    "    \n",
    "    \n",
    "longLexScoreList = normalize(longLexScoreList)\n",
    "lexScoreList = normalize(lexScoreList)\n",
    "vocabScoreList = normalize(vocabScoreList)\n",
    "totalWordList = normalize(totalWordList)\n",
    "totalLongWrdList = normalize(totalLongWrdList)\n",
    "\n",
    "    \n",
    "\n",
    "#print(\"Book List - \", bookList)\n",
    "    \n"
   ]
  },
  {
   "cell_type": "code",
   "execution_count": 65,
   "metadata": {},
   "outputs": [
    {
     "name": "stdout",
     "output_type": "stream",
     "text": [
      "booklist =  [{'title': 'McGuffeys Third Eclectic Reader', 'url': 'http://www.gutenberg.org/cache/epub/14766/pg14766.txt', 'topSep': 'LESSON', 'botSep': 'End of the Project Gutenberg EBook ', 'totalWords': 168150, 'lexDiv': 0.11806253324664578, 'vocSize': 3995, 'normalizedLongLexScore': 0, 'numLongWords': 62, 'longWordLex': 0.0018322595898102724}, {'title': 'McGuffeys Fourth Eclectic Reader', 'url': 'http://www.gutenberg.org/cache/epub/14880/pg14880.txt', 'topSep': 'INTRODUCTORY MATTER', 'botSep': 'End of the Project Gutenberg EBook ', 'totalWords': 388599, 'lexDiv': 0.12267115600448934, 'vocSize': 9837, 'normalizedLongLexScore': 0, 'numLongWords': 570, 'longWordLex': 0.00710811821922933}, {'title': 'McGuffeys Fifth Eclectic Reader', 'url': 'http://www.gutenberg.org/cache/epub/15040/pg15040.txt', 'topSep': 'CONTENTS', 'botSep': '*** END OF THIS PROJECT GUTENBERG EBOOK ', 'totalWords': 605269, 'lexDiv': 0.11291690450950012, 'vocSize': 13847, 'normalizedLongLexScore': 0, 'numLongWords': 1080, 'longWordLex': 0.008806980347386447}]\n",
      "id = {'title': 'McGuffeys Fifth Eclectic Reader', 'url': 'http://www.gutenberg.org/cache/epub/15040/pg15040.txt', 'topSep': 'CONTENTS', 'botSep': '*** END OF THIS PROJECT GUTENBERG EBOOK ', 'totalWords': 605269, 'lexDiv': 0.11291690450950012, 'vocSize': 13847, 'normalizedLongLexScore': 0, 'numLongWords': 1080, 'longWordLex': 0.008806980347386447}\n",
      "norm Lex = [0.9624310807205982, 1.0, 0.920484555516602]\n",
      "norm Long Lex =  [0.2080462902763275, 0.8071004974297156, 1.0]\n",
      "vocabScoreList =  [0.2885101466021521, 0.7104065862641727, 1.0]\n",
      "totalwordlis =  [0.27781036200433196, 0.6420269334791638, 1.0]\n",
      "totalLngwordList =  [0.05740740740740741, 0.5277777777777778, 1.0]\n"
     ]
    }
   ],
   "source": [
    "print('booklist = ', bookList)\n",
    "print('id =', ids)\n",
    "print (\"norm Lex =\", lexScoreList)\n",
    "print ('norm Long Lex = ', longLexScoreList)\n",
    "print ('vocabScoreList = ',vocabScoreList)\n",
    "print ('totalwordlis = ',totalWordList)\n",
    "print ('totalLngwordList = ',totalLongWrdList)"
   ]
  },
  {
   "cell_type": "code",
   "execution_count": 73,
   "metadata": {},
   "outputs": [
    {
     "data": {
      "image/png": "[encoded data removed]",
      "text/plain": [
       "<Figure size 432x288 with 1 Axes>"
      ]
     },
     "metadata": {},
     "output_type": "display_data"
    }
   ],
   "source": [
    "\n",
    "plt.hist(longLexScoreList, label='Long Lex Score')\n",
    "plt.hist(lexScoreList, label = 'Lex Score')\n",
    "plt.legend(loc='upper left')\n",
    "plt.show()"
   ]
  },
  {
   "cell_type": "markdown",
   "metadata": {},
   "source": [
    "## Discussion of findings\n",
    "The three books examined were each part of McGuffey's Eclectic Reader series. I examined books for third graders, fourth graders and fifth graders. I found that the total size of each book increased with grade level, with the fifth grade book being almost four times as long as the third grade book. This is an expected result; as children get older they are able to read longer books.  Two lexical statistics are examined to measure the complexity of each of the texts.  The first is the vocabulary which is the set of unique tokens in the text.  The second statistic is lexical diversity which is the proportion of unique tokens in a text to the total number of tokens in the same text. When vocabulary size is examined, the size more than doubles from third to fourth grade, and then increases appoximately fifty percent from fourth to fifth grade.  This is also an expected result as we would think a fourth grade vocabulary is much larger than that of third grade, and the fifth grade vocabulary continues to increase compared to fourth grade.  The lexical diversity remains relatively steady between the three texts. This is expected since lexical diversity measures the number of unique words to the total size of the text and in an education text the goal is to teach the student.  Even though vocabulary is increasing, the mix of unique words does not so the text is not confusing to the student.\n",
    "\n",
    "Since lexical diversity is a measure of range of use of the vocabulary in the text, it follows that a text with a higher vocabulary **and** a higher lexical diverity would indicate a text with a higher reading level. A large vocabulary alone indicates a large number of unique words, but if they are only used once, or there are several sentences used as definitions, this could lead to large vocabulary, but a low lexical diversity.  Conversely, a lower vocabulary with a high lexical diversity could indicate a shorter text and only shows the small number of unique words are mixed in well in the text.  The combination of a larger vocabulary (usually indicating longer text) and a higher lexical diversity indicates more words used in a unique fashion. This type of text would be a appropriate for a higher reading level."
   ]
  },
  {
   "cell_type": "code",
   "execution_count": null,
   "metadata": {},
   "outputs": [],
   "source": []
  }
 ],
 "metadata": {
  "kernelspec": {
   "display_name": "Python 3",
   "language": "python",
   "name": "python3"
  },
  "language_info": {
   "codemirror_mode": {
    "name": "ipython",
    "version": 3
   },
   "file_extension": ".py",
   "mimetype": "text/x-python",
   "name": "python",
   "nbconvert_exporter": "python",
   "pygments_lexer": "ipython3",
   "version": "3.6.6"
  }
 },
 "nbformat": 4,
 "nbformat_minor": 2
}
